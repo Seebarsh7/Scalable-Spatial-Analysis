{
 "cells": [
  {
   "cell_type": "code",
   "execution_count": 3,
   "metadata": {},
   "outputs": [],
   "source": [
    "import numpy as np\n",
    "import pandas as pd\n",
    "from matplotlib import pyplot as plt"
   ]
  },
  {
   "cell_type": "code",
   "execution_count": 4,
   "metadata": {},
   "outputs": [],
   "source": [
    "npz_file = np.load('MNIST/mnist_arr.npz')\n",
    "img_arr = npz_file['images']"
   ]
  },
  {
   "cell_type": "code",
   "execution_count": 26,
   "metadata": {},
   "outputs": [
    {
     "data": {
      "text/plain": [
       "(60000, 784)"
      ]
     },
     "execution_count": 26,
     "metadata": {},
     "output_type": "execute_result"
    }
   ],
   "source": [
    "img_arr.shape"
   ]
  },
  {
   "cell_type": "code",
   "execution_count": 13,
   "metadata": {},
   "outputs": [],
   "source": [
    "class KMeans:\n",
    "    def __init__(self, \n",
    "                 k, # number of centers\n",
    "                 X):\n",
    "        self.k = k\n",
    "        self.X = X # data objects\n",
    "        self.N, self.d = self.X.shape\n",
    "        \n",
    "    def initialization(self, random_seed = 123):\n",
    "        np.random.seed(seed = random_seed)\n",
    "        self.centers = np.zeros((self.k, self.d))\n",
    "        \n",
    "        X = self.X\n",
    "        k = self.k\n",
    "        centers = self.centers\n",
    "        \"\"\"\n",
    "        TODO:\n",
    "        initialize your first k centers as in self.centers\n",
    "        TODO:\n",
    "        If you decide to do the Bonus Question, then implement the k-means++ here\n",
    "        \"\"\"\n",
    "        #==========================K-means ++ =====================================\n",
    "        r = np.random.randint(0, len(X) - 1)\n",
    "        centers[0] = X[r]\n",
    "        \n",
    "        for i in range(1,k):\n",
    "            #calculate distances\n",
    "            D2 = np.array([min([np.linalg.norm(c-x) ** 2 for c in centers]) for x in X])\n",
    "            \n",
    "            probs = D2/D2.sum()\n",
    "            cum = probs.cumsum()\n",
    "            \n",
    "            r = np.random.random()\n",
    "\n",
    "            for j, p in enumerate(cum):\n",
    "                if r < p:\n",
    "                    index = j\n",
    "                    break\n",
    "                    \n",
    "            centers[i] = X[index]\n",
    "        # ======================== k-means=========================================\n",
    "        #np.random.shuffle(X)\n",
    "        #centers = X[:k,:]\n",
    "        \n",
    "        return centers\n",
    "    \n",
    "    def cluster_assign_and_update(self, old_centers):\n",
    "        \"\"\"\n",
    "        TODO:\n",
    "        assign your data objects to clusters and update the k centers self.centers\n",
    "        \"\"\"\n",
    "        #add a new parameter called old_centers for the updata purpose\n",
    "        #old_centers = self.initialization()\n",
    "        center_num = self.k\n",
    "        dataset = self.X\n",
    "        \n",
    "        #=================================assign================================\n",
    "        # try dictionary like {0: [data points]; 1: [data points]...}\n",
    "        clusters = {c: [] for c in range(center_num)}\n",
    "        \n",
    "        #loop through data and check centers which one is the closest\n",
    "        # for each data in MNIST\n",
    "        for data_i in dataset:\n",
    "            min_dist = float(\"inf\") #aasign to inf first\n",
    "            for j in range(center_num):\n",
    "                c_j = old_centers[j]\n",
    "                distance = np.linalg.norm(data_i - c_j)\n",
    "                if distance < min_dist:\n",
    "                    assign_center = j\n",
    "                    min_dist = distance\n",
    "        \n",
    "            clusters[assign_center].append(data_i)\n",
    "        #print('clusters: ',clusters)\n",
    "        \n",
    "        #==================================update===============================   \n",
    "        #find the mean of data points for one cluster\n",
    "        new_centers = []\n",
    "        \n",
    "        for point_set in clusters.values():\n",
    "            counter = 0\n",
    "            if(len(point_set)) > 0 : \n",
    "                sum_point = point_set[0].copy()\n",
    "                for a in point_set[1:]:\n",
    "                    sum_point = np.add(a,sum_point)\n",
    "                mean_point = np.asarray(sum_point) * 1.0/len(point_set)\n",
    "                new_centers.append(mean_point)\n",
    "            else:\n",
    "                new_centers.append(np.asarray(old_centers[counter]))\n",
    "            \n",
    "            counter += 1\n",
    "        \n",
    "        return new_centers\n",
    "    \n",
    "    def iteration(self, tol, max_iters=1000):\n",
    "        \"\"\"\n",
    "        TODO:\n",
    "        Perform kmeans iteration until convergence (use tol and max_iters as paramters to control your convergence)\n",
    "        \"\"\"\n",
    "        #============================the first iteration====================================\n",
    "        #tol = tolerance\n",
    "        \n",
    "        old_centers = self.initialization()\n",
    "        new_centers = self.cluster_assign_and_update(old_centers)\n",
    "        print('1st: ', max(map(lambda a, b: np.linalg.norm(a-b),old_centers, new_centers)))\n",
    "        \n",
    "        iteration = 1\n",
    "        \n",
    "        #============================afterwards...==========================================\n",
    "        #while \n",
    "        while True:\n",
    "            differences = max(map(lambda a, b: np.linalg.norm(a-b),old_centers, new_centers))\n",
    "            print('iteration:', iteration, differences)\n",
    "            iteration += 1\n",
    "            \n",
    "            if differences < tol or iteration > max_iters:\n",
    "                break\n",
    "            \n",
    "            #center update\n",
    "            old_centers = new_centers\n",
    "            new_centers = self.cluster_assign_and_update(old_centers)\n",
    "    \n",
    "        return new_centers"
   ]
  },
  {
   "cell_type": "markdown",
   "metadata": {},
   "source": [
    "## Write code below to execute kmeans on MNIST img_arr with k=2,5,10,30"
   ]
  },
  {
   "cell_type": "code",
   "execution_count": 17,
   "metadata": {
    "scrolled": true
   },
   "outputs": [
    {
     "name": "stdout",
     "output_type": "stream",
     "text": [
      "==================now K is : 2\n",
      "1st:  1768.9181918040379\n",
      "iteration: 1 1768.9181918040379\n",
      "iteration: 2 150.1957908482931\n",
      "iteration: 3 61.625546445548174\n",
      "iteration: 4 40.37139333477302\n",
      "iteration: 5 31.897018915495703\n",
      "iteration: 6 26.73652351051441\n",
      "iteration: 7 22.707507724879484\n",
      "iteration: 8 19.909747937283996\n",
      "iteration: 9 16.976964734491975\n",
      "iteration: 10 13.880000559396015\n",
      "iteration: 11 10.69945982953863\n",
      "iteration: 12 8.786830689231632\n",
      "iteration: 13 6.383036887017961\n",
      "iteration: 14 5.4981082067541935\n",
      "iteration: 15 3.8020980334445595\n",
      "iteration: 16 2.563190219586549\n",
      "iteration: 17 2.3028846487704024\n",
      "iteration: 18 2.03597894087513\n",
      "iteration: 19 1.5463445965087526\n",
      "iteration: 20 1.4310788918133144\n",
      "iteration: 21 1.17131352644681\n",
      "iteration: 22 0.905824365940012\n",
      "iteration: 23 0.5857353692399347\n",
      "iteration: 24 0.5675540477428326\n",
      "iteration: 25 0.2755307737474854\n",
      "iteration: 26 0.21232708571933068\n",
      "iteration: 27 0.1603680851187463\n",
      "iteration: 28 0.08363326864172543\n",
      "==================now K is : 5\n",
      "1st:  1742.2406209170128\n",
      "iteration: 1 1742.2406209170128\n",
      "iteration: 2 245.5852658544085\n",
      "iteration: 3 104.60010996047939\n",
      "iteration: 4 59.50187976929675\n",
      "iteration: 5 44.067775873653254\n",
      "iteration: 6 43.67140647684688\n",
      "iteration: 7 52.35780558124591\n",
      "iteration: 8 70.68376734746319\n",
      "iteration: 9 87.57631763512603\n",
      "iteration: 10 92.18178885312108\n",
      "iteration: 11 99.60945849417085\n",
      "iteration: 12 103.07785773360715\n",
      "iteration: 13 109.91288465880055\n",
      "iteration: 14 126.11729495902254\n",
      "iteration: 15 142.70923147267146\n",
      "iteration: 16 148.82183712928\n",
      "iteration: 17 133.47939027629042\n",
      "iteration: 18 86.00692057786631\n",
      "iteration: 19 50.31171651063703\n",
      "iteration: 20 48.34586773367124\n",
      "iteration: 21 46.29945120641106\n",
      "iteration: 22 35.08074392047761\n",
      "iteration: 23 25.18132642294815\n",
      "iteration: 24 17.53149456608566\n",
      "iteration: 25 10.320616193384806\n",
      "iteration: 26 6.20435803430925\n",
      "iteration: 27 4.027741068475506\n",
      "iteration: 28 3.2947893905210655\n",
      "iteration: 29 2.4339762789807398\n",
      "iteration: 30 1.906924537716105\n",
      "iteration: 31 1.3137686051228061\n",
      "iteration: 32 0.8669448628666271\n",
      "iteration: 33 0.7436555091132104\n",
      "iteration: 34 0.6394074331729781\n",
      "iteration: 35 0.48549601000628956\n",
      "iteration: 36 0.39412241619666927\n",
      "iteration: 37 0.18396990994720247\n",
      "iteration: 38 0.12568972156520627\n",
      "iteration: 39 0.14346659223537078\n",
      "iteration: 40 0.0\n",
      "==================now K is : 10\n",
      "1st:  1658.0589954127472\n",
      "iteration: 1 1658.0589954127472\n",
      "iteration: 2 372.9711691149018\n",
      "iteration: 3 249.19960921847635\n",
      "iteration: 4 223.5760391257737\n",
      "iteration: 5 186.2767670082484\n",
      "iteration: 6 148.29154773837206\n",
      "iteration: 7 98.24002874671757\n",
      "iteration: 8 88.50827343985225\n",
      "iteration: 9 70.54185827436967\n",
      "iteration: 10 61.80516331335558\n",
      "iteration: 11 61.667500213191246\n",
      "iteration: 12 60.17500624524929\n",
      "iteration: 13 58.79709246000967\n",
      "iteration: 14 50.73427350138496\n",
      "iteration: 15 40.815154776235374\n",
      "iteration: 16 29.184075752156655\n",
      "iteration: 17 19.751826211110387\n",
      "iteration: 18 14.740260359265566\n",
      "iteration: 19 12.201291518386007\n",
      "iteration: 20 9.995479089026094\n",
      "iteration: 21 8.212352628536824\n",
      "iteration: 22 5.163964782408179\n",
      "iteration: 23 4.6694662571820285\n",
      "iteration: 24 3.738644310650759\n",
      "iteration: 25 3.464704001634167\n",
      "iteration: 26 2.883890725716488\n",
      "iteration: 27 2.5573115920873013\n",
      "iteration: 28 2.79200360154727\n",
      "iteration: 29 3.2351893010274937\n",
      "iteration: 30 2.426714032040997\n",
      "iteration: 31 2.2848051053990264\n",
      "iteration: 32 1.2486032195806478\n",
      "iteration: 33 1.667771881364904\n",
      "iteration: 34 0.9424842267677173\n",
      "iteration: 35 0.8417056099762069\n",
      "iteration: 36 0.6177203657469343\n",
      "iteration: 37 1.06782874371795\n",
      "iteration: 38 1.2411660926873693\n",
      "iteration: 39 0.688949983364605\n",
      "iteration: 40 1.1618361180883747\n",
      "iteration: 41 0.868642153856262\n",
      "iteration: 42 0.9746297995178586\n",
      "iteration: 43 0.53968933274716\n",
      "iteration: 44 0.5327393815615631\n",
      "iteration: 45 0.5375958165798577\n",
      "iteration: 46 0.6169364260802862\n",
      "iteration: 47 0.5980382784958576\n",
      "iteration: 48 0.6815305897814182\n",
      "iteration: 49 0.5823458833323968\n",
      "iteration: 50 0.4265577037678509\n",
      "iteration: 51 0.4056484925591235\n",
      "iteration: 52 0.69842898158895\n",
      "iteration: 53 0.733292449258633\n",
      "iteration: 54 1.326829023202906\n",
      "iteration: 55 0.8385520127680015\n",
      "iteration: 56 0.6317191200336252\n",
      "iteration: 57 0.741835027654336\n",
      "iteration: 58 0.5422773528663534\n",
      "iteration: 59 0.6252584363469483\n",
      "iteration: 60 0.3524755483536243\n",
      "iteration: 61 0.460395868289313\n",
      "iteration: 62 0.48396119799849424\n",
      "iteration: 63 0.6350642365391055\n",
      "iteration: 64 0.4714660063135038\n",
      "iteration: 65 0.35024696027596264\n",
      "iteration: 66 0.0\n",
      "==================now K is : 30\n",
      "1st:  1483.2271757227575\n",
      "iteration: 1 1483.2271757227575\n",
      "iteration: 2 495.37518761761385\n",
      "iteration: 3 246.9783607000185\n",
      "iteration: 4 218.78010047254665\n",
      "iteration: 5 241.49852370914016\n",
      "iteration: 6 173.6362080173113\n",
      "iteration: 7 118.61231281395114\n",
      "iteration: 8 100.74259002509673\n",
      "iteration: 9 82.44747791220185\n",
      "iteration: 10 72.73509157647808\n",
      "iteration: 11 74.9855163272234\n",
      "iteration: 12 79.59805921557543\n",
      "iteration: 13 99.25506489312892\n",
      "iteration: 14 119.59619416410071\n",
      "iteration: 15 122.29697806307765\n",
      "iteration: 16 136.3700074565919\n",
      "iteration: 17 135.90105359235633\n",
      "iteration: 18 104.83841323289569\n",
      "iteration: 19 79.01334542210655\n",
      "iteration: 20 52.56729336169363\n",
      "iteration: 21 48.35764364458969\n",
      "iteration: 22 44.50237272483085\n",
      "iteration: 23 51.15204396395813\n",
      "iteration: 24 45.648696388809086\n",
      "iteration: 25 42.60825971708358\n",
      "iteration: 26 39.936829022840655\n",
      "iteration: 27 37.702710550324504\n",
      "iteration: 28 34.22614238058658\n",
      "iteration: 29 31.99083374980496\n",
      "iteration: 30 23.828184010967345\n",
      "iteration: 31 23.351792802926493\n",
      "iteration: 32 24.095134438907472\n",
      "iteration: 33 21.610499679593886\n",
      "iteration: 34 17.589516810781483\n",
      "iteration: 35 16.092663031973803\n",
      "iteration: 36 22.516647964991353\n",
      "iteration: 37 25.382835298579046\n",
      "iteration: 38 25.430102798129774\n",
      "iteration: 39 30.05661607985914\n",
      "iteration: 40 27.345922078335818\n",
      "iteration: 41 25.63835580344468\n",
      "iteration: 42 25.943140730701685\n",
      "iteration: 43 26.868207369340233\n",
      "iteration: 44 27.457900564623653\n",
      "iteration: 45 31.744390764452692\n",
      "iteration: 46 28.447872073368575\n",
      "iteration: 47 32.453240455063536\n",
      "iteration: 48 33.218295091109624\n",
      "iteration: 49 28.763970037632287\n",
      "iteration: 50 28.94478256627346\n",
      "iteration: 51 27.23597725148725\n",
      "iteration: 52 29.707035425272014\n",
      "iteration: 53 25.80909506779432\n",
      "iteration: 54 20.425957025235512\n",
      "iteration: 55 16.95070746583724\n",
      "iteration: 56 17.52503623012333\n",
      "iteration: 57 16.96438704393884\n",
      "iteration: 58 12.546870387406239\n",
      "iteration: 59 13.806397298864606\n",
      "iteration: 60 11.732922211123745\n",
      "iteration: 61 10.596132228330108\n",
      "iteration: 62 9.707904302795047\n",
      "iteration: 63 11.52131062985685\n",
      "iteration: 64 13.535878999398252\n",
      "iteration: 65 14.680938443434082\n",
      "iteration: 66 17.4381713951769\n",
      "iteration: 67 16.551796065093\n",
      "iteration: 68 14.122005022526892\n",
      "iteration: 69 11.516071146950027\n",
      "iteration: 70 10.106766991056066\n",
      "iteration: 71 8.28219872411562\n",
      "iteration: 72 10.319326299861686\n",
      "iteration: 73 8.838730003142388\n",
      "iteration: 74 8.446902425915638\n",
      "iteration: 75 6.622821130371342\n",
      "iteration: 76 6.264848231580065\n",
      "iteration: 77 7.272836340086339\n",
      "iteration: 78 6.895404315124036\n",
      "iteration: 79 6.8394439894105155\n",
      "iteration: 80 9.184299374008239\n",
      "iteration: 81 9.94287876144688\n",
      "iteration: 82 8.060814403036394\n",
      "iteration: 83 11.465286877382333\n",
      "iteration: 84 8.73429625421823\n",
      "iteration: 85 9.166353628099088\n",
      "iteration: 86 8.558920449278265\n",
      "iteration: 87 9.120778660180907\n",
      "iteration: 88 10.756916877768402\n",
      "iteration: 89 8.62816543192202\n",
      "iteration: 90 8.06435774757443\n",
      "iteration: 91 7.633542959599526\n",
      "iteration: 92 9.42256089468972\n",
      "iteration: 93 11.050681179040826\n",
      "iteration: 94 12.595626232196524\n",
      "iteration: 95 10.104779407009284\n",
      "iteration: 96 7.3341160155058205\n",
      "iteration: 97 7.395563922239477\n",
      "iteration: 98 6.534651468072512\n",
      "iteration: 99 10.020014989482021\n",
      "iteration: 100 9.531257285177702\n",
      "iteration: 101 9.463567209523703\n",
      "iteration: 102 6.575763254279697\n",
      "iteration: 103 5.9783437893805145\n",
      "iteration: 104 5.831689610976012\n",
      "iteration: 105 7.909732164763983\n",
      "iteration: 106 8.73609435771033\n",
      "iteration: 107 7.703599179804941\n",
      "iteration: 108 8.069383964381023\n",
      "iteration: 109 4.505748620011484\n",
      "iteration: 110 5.233927520863588\n",
      "iteration: 111 4.326399688050374\n",
      "iteration: 112 5.375787082594994\n",
      "iteration: 113 3.491863466382509\n"
     ]
    },
    {
     "name": "stdout",
     "output_type": "stream",
     "text": [
      "iteration: 114 3.0575030467392748\n",
      "iteration: 115 4.958780105978545\n",
      "iteration: 116 5.038107949290023\n",
      "iteration: 117 3.8612931441314933\n",
      "iteration: 118 3.0594648826935886\n",
      "iteration: 119 3.0119576034481637\n",
      "iteration: 120 2.481202081865384\n",
      "iteration: 121 2.8241120194836262\n",
      "iteration: 122 5.537744326290474\n",
      "iteration: 123 8.055340104587545\n",
      "iteration: 124 4.791101957685472\n",
      "iteration: 125 6.397543122376748\n",
      "iteration: 126 7.588252175863397\n",
      "iteration: 127 4.78145229956885\n",
      "iteration: 128 5.492665346653953\n",
      "iteration: 129 6.098884967284098\n",
      "iteration: 130 6.8094256437163425\n",
      "iteration: 131 6.357550302007718\n",
      "iteration: 132 4.435812932986633\n",
      "iteration: 133 5.509109393248164\n",
      "iteration: 134 4.988446389815825\n",
      "iteration: 135 5.633141544146082\n",
      "iteration: 136 6.044339688885013\n",
      "iteration: 137 9.949560197375584\n",
      "iteration: 138 9.275927567171095\n",
      "iteration: 139 5.4455674021349605\n",
      "iteration: 140 5.568728065877951\n",
      "iteration: 141 6.102119284913188\n",
      "iteration: 142 7.378162073516211\n",
      "iteration: 143 6.794466782421162\n",
      "iteration: 144 3.597926908141533\n",
      "iteration: 145 3.595575064491366\n",
      "iteration: 146 3.886349374482193\n",
      "iteration: 147 4.830598545822351\n",
      "iteration: 148 5.29100377482203\n",
      "iteration: 149 5.139600205816523\n",
      "iteration: 150 4.589280882645662\n",
      "iteration: 151 4.441475872819514\n",
      "iteration: 152 4.2044115196434735\n",
      "iteration: 153 5.28820599682998\n",
      "iteration: 154 4.170515512321627\n",
      "iteration: 155 4.313337900643138\n",
      "iteration: 156 3.9178762318127602\n",
      "iteration: 157 4.358984259684603\n",
      "iteration: 158 5.501973421595695\n",
      "iteration: 159 4.89180592755483\n",
      "iteration: 160 4.239833418495723\n",
      "iteration: 161 4.501518614743746\n",
      "iteration: 162 3.623800689548151\n",
      "iteration: 163 3.248470656289406\n",
      "iteration: 164 2.3010956612373574\n",
      "iteration: 165 2.2381543259707737\n",
      "iteration: 166 1.985489237567095\n",
      "iteration: 167 2.543144438434026\n",
      "iteration: 168 2.2234889479423843\n",
      "iteration: 169 2.660064939343666\n",
      "iteration: 170 2.287943757174215\n",
      "iteration: 171 2.121127120360371\n",
      "iteration: 172 1.373734376637646\n",
      "iteration: 173 1.749111761562901\n",
      "iteration: 174 1.8394869599574781\n",
      "iteration: 175 3.434491957087234\n",
      "iteration: 176 3.064592224643319\n",
      "iteration: 177 3.202256248544154\n",
      "iteration: 178 3.0543646823014114\n",
      "iteration: 179 1.576021722841405\n",
      "iteration: 180 1.257262032423693\n",
      "iteration: 181 0.0\n"
     ]
    }
   ],
   "source": [
    "\"\"\"\n",
    "Examples:\n",
    "k = 10\n",
    "kmeans_obj = KMeans(k,img_arr)\n",
    "kmeans_obj.initialization()\n",
    "centers = kmeans_obj.centers\n",
    "\"\"\"\n",
    "k_list = [2,5,10,30]\n",
    "center_list = []\n",
    "for k in k_list:\n",
    "    print('==================now K is :', k)\n",
    "    kmeans_obj = KMeans(k,img_arr)\n",
    "    center_list.append(kmeans_obj.iteration(tol = 0.1))"
   ]
  },
  {
   "cell_type": "markdown",
   "metadata": {},
   "source": [
    "## Implement code to visualize your cluster centers with k=2,5,10,30"
   ]
  },
  {
   "cell_type": "code",
   "execution_count": 8,
   "metadata": {},
   "outputs": [],
   "source": [
    "\"\"\"\n",
    "TODO \n",
    "write code to respectively plot your cluster centers with k = 2,5,10,30\n",
    "\"\"\"\n",
    "def display_digit(digit):\n",
    "    \"\"\" \n",
    "    graphically displays a 784x1 vector, representing a digit\n",
    "    \"\"\"\n",
    "    image = digit\n",
    "    plt.figure()\n",
    "    fig = plt.imshow(image.reshape(28,28))\n",
    "    fig.set_cmap('gray_r')\n",
    "    fig.axes.get_xaxis().set_visible(False)\n",
    "    fig.axes.get_yaxis().set_visible(False)"
   ]
  },
  {
   "cell_type": "code",
   "execution_count": 21,
   "metadata": {},
   "outputs": [
    {
     "name": "stdout",
     "output_type": "stream",
     "text": [
      "K=2\n"
     ]
    },
    {
     "data": {
      "image/png": "[encoded data removed]",
      "text/plain": [
       "<Figure size 432x288 with 1 Axes>"
      ]
     },
     "metadata": {
      "needs_background": "light"
     },
     "output_type": "display_data"
    },
    {
     "data": {
      "image/png": "[encoded data removed]",
      "text/plain": [
       "<Figure size 432x288 with 1 Axes>"
      ]
     },
     "metadata": {
      "needs_background": "light"
     },
     "output_type": "display_data"
    }
   ],
   "source": [
    "print('K=2')\n",
    "for digit in center_list[0]:\n",
    "    display_digit(digit)"
   ]
  },
  {
   "cell_type": "code",
   "execution_count": 22,
   "metadata": {},
   "outputs": [
    {
     "name": "stdout",
     "output_type": "stream",
     "text": [
      "K=5\n"
     ]
    },
    {
     "data": {
      "image/png": "[encoded data removed]",
      "text/plain": [
       "<Figure size 432x288 with 1 Axes>"
      ]
     },
     "metadata": {
      "needs_background": "light"
     },
     "output_type": "display_data"
    },
    {
     "data": {
      "image/png": "[encoded data removed]",
      "text/plain": [
       "<Figure size 432x288 with 1 Axes>"
      ]
     },
     "metadata": {
      "needs_background": "light"
     },
     "output_type": "display_data"
    },
    {
     "data": {
      "image/png": "[encoded data removed]",
      "text/plain": [
       "<Figure size 432x288 with 1 Axes>"
      ]
     },
     "metadata": {
      "needs_background": "light"
     },
     "output_type": "display_data"
    },
    {
     "data": {
      "image/png": "[encoded data removed]",
      "text/plain": [
       "<Figure size 432x288 with 1 Axes>"
      ]
     },
     "metadata": {
      "needs_background": "light"
     },
     "output_type": "display_data"
    },
    {
     "data": {
      "image/png": "[encoded data removed]",
      "text/plain": [
       "<Figure size 432x288 with 1 Axes>"
      ]
     },
     "metadata": {
      "needs_background": "light"
     },
     "output_type": "display_data"
    }
   ],
   "source": [
    "print('K=5')\n",
    "for digit in center_list[1]:\n",
    "    display_digit(digit)"
   ]
  },
  {
   "cell_type": "code",
   "execution_count": 23,
   "metadata": {
    "scrolled": false
   },
   "outputs": [
    {
     "name": "stdout",
     "output_type": "stream",
     "text": [
      "K=10\n"
     ]
    },
    {
     "data": {
      "image/png": "[encoded data removed]",
      "text/plain": [
       "<Figure size 432x288 with 1 Axes>"
      ]
     },
     "metadata": {
      "needs_background": "light"
     },
     "output_type": "display_data"
    },
    {
     "data": {
      "image/png": "[encoded data removed]",
      "text/plain": [
       "<Figure size 432x288 with 1 Axes>"
      ]
     },
     "metadata": {
      "needs_background": "light"
     },
     "output_type": "display_data"
    },
    {
     "data": {
      "image/png": "[encoded data removed]",
      "text/plain": [
       "<Figure size 432x288 with 1 Axes>"
      ]
     },
     "metadata": {
      "needs_background": "light"
     },
     "output_type": "display_data"
    },
    {
     "data": {
      "image/png": "[encoded data removed]",
      "text/plain": [
       "<Figure size 432x288 with 1 Axes>"
      ]
     },
     "metadata": {
      "needs_background": "light"
     },
     "output_type": "display_data"
    },
    {
     "data": {
      "image/png": "[encoded data removed]",
      "text/plain": [
       "<Figure size 432x288 with 1 Axes>"
      ]
     },
     "metadata": {
      "needs_background": "light"
     },
     "output_type": "display_data"
    },
    {
     "data": {
      "image/png": "[encoded data removed]",
      "text/plain": [
       "<Figure size 432x288 with 1 Axes>"
      ]
     },
     "metadata": {
      "needs_background": "light"
     },
     "output_type": "display_data"
    },
    {
     "data": {
      "image/png": "[encoded data removed]",
      "text/plain": [
       "<Figure size 432x288 with 1 Axes>"
      ]
     },
     "metadata": {
      "needs_background": "light"
     },
     "output_type": "display_data"
    },
    {
     "data": {
      "image/png": "[encoded data removed]",
      "text/plain": [
       "<Figure size 432x288 with 1 Axes>"
      ]
     },
     "metadata": {
      "needs_background": "light"
     },
     "output_type": "display_data"
    },
    {
     "data": {
      "image/png": "[encoded data removed]",
      "text/plain": [
       "<Figure size 432x288 with 1 Axes>"
      ]
     },
     "metadata": {
      "needs_background": "light"
     },
     "output_type": "display_data"
    },
    {
     "data": {
      "image/png": "[encoded data removed]",
      "text/plain": [
       "<Figure size 432x288 with 1 Axes>"
      ]
     },
     "metadata": {
      "needs_background": "light"
     },
     "output_type": "display_data"
    }
   ],
   "source": [
    "print('K=10')\n",
    "for digit in center_list[2]:\n",
    "    display_digit(digit)"
   ]
  },
  {
   "cell_type": "code",
   "execution_count": 24,
   "metadata": {
    "scrolled": false
   },
   "outputs": [
    {
     "name": "stdout",
     "output_type": "stream",
     "text": [
      "K=30\n"
     ]
    },
    {
     "data": {
      "image/png": "[encoded data removed]",
      "text/plain": [
       "<Figure size 432x288 with 1 Axes>"
      ]
     },
     "metadata": {
      "needs_background": "light"
     },
     "output_type": "display_data"
    },
    {
     "data": {
      "image/png": "[encoded data removed]",
      "text/plain": [
       "<Figure size 432x288 with 1 Axes>"
      ]
     },
     "metadata": {
      "needs_background": "light"
     },
     "output_type": "display_data"
    },
    {
     "data": {
      "image/png": "[encoded data removed]",
      "text/plain": [
       "<Figure size 432x288 with 1 Axes>"
      ]
     },
     "metadata": {
      "needs_background": "light"
     },
     "output_type": "display_data"
    },
    {
     "data": {
      "image/png": "[encoded data removed]",
      "text/plain": [
       "<Figure size 432x288 with 1 Axes>"
      ]
     },
     "metadata": {
      "needs_background": "light"
     },
     "output_type": "display_data"
    },
    {
     "data": {
      "image/png": "[encoded data removed]",
      "text/plain": [
       "<Figure size 432x288 with 1 Axes>"
      ]
     },
     "metadata": {
      "needs_background": "light"
     },
     "output_type": "display_data"
    },
    {
     "data": {
      "image/png": "[encoded data removed]",
      "text/plain": [
       "<Figure size 432x288 with 1 Axes>"
      ]
     },
     "metadata": {
      "needs_background": "light"
     },
     "output_type": "display_data"
    },
    {
     "data": {
      "image/png": "[encoded data removed]",
      "text/plain": [
       "<Figure size 432x288 with 1 Axes>"
      ]
     },
     "metadata": {
      "needs_background": "light"
     },
     "output_type": "display_data"
    },
    {
     "data": {
      "image/png": "[encoded data removed]",
      "text/plain": [
       "<Figure size 432x288 with 1 Axes>"
      ]
     },
     "metadata": {
      "needs_background": "light"
     },
     "output_type": "display_data"
    },
    {
     "data": {
      "image/png": "[encoded data removed]",
      "text/plain": [
       "<Figure size 432x288 with 1 Axes>"
      ]
     },
     "metadata": {
      "needs_background": "light"
     },
     "output_type": "display_data"
    },
    {
     "data": {
      "image/png": "[encoded data removed]",
      "text/plain": [
       "<Figure size 432x288 with 1 Axes>"
      ]
     },
     "metadata": {
      "needs_background": "light"
     },
     "output_type": "display_data"
    },
    {
     "data": {
      "image/png": "[encoded data removed]",
      "text/plain": [
       "<Figure size 432x288 with 1 Axes>"
      ]
     },
     "metadata": {
      "needs_background": "light"
     },
     "output_type": "display_data"
    },
    {
     "data": {
      "image/png": "[encoded data removed]",
      "text/plain": [
       "<Figure size 432x288 with 1 Axes>"
      ]
     },
     "metadata": {
      "needs_background": "light"
     },
     "output_type": "display_data"
    },
    {
     "data": {
      "image/png": "[encoded data removed]",
      "text/plain": [
       "<Figure size 432x288 with 1 Axes>"
      ]
     },
     "metadata": {
      "needs_background": "light"
     },
     "output_type": "display_data"
    },
    {
     "data": {
      "image/png": "[encoded data removed]",
      "text/plain": [
       "<Figure size 432x288 with 1 Axes>"
      ]
     },
     "metadata": {
      "needs_background": "light"
     },
     "output_type": "display_data"
    },
    {
     "data": {
      "image/png": "[encoded data removed]",
      "text/plain": [
       "<Figure size 432x288 with 1 Axes>"
      ]
     },
     "metadata": {
      "needs_background": "light"
     },
     "output_type": "display_data"
    },
    {
     "data": {
      "image/png": "[encoded data removed]",
      "text/plain": [
       "<Figure size 432x288 with 1 Axes>"
      ]
     },
     "metadata": {
      "needs_background": "light"
     },
     "output_type": "display_data"
    },
    {
     "data": {
      "image/png": "[encoded data removed]",
      "text/plain": [
       "<Figure size 432x288 with 1 Axes>"
      ]
     },
     "metadata": {
      "needs_background": "light"
     },
     "output_type": "display_data"
    },
    {
     "data": {
      "image/png": "[encoded data removed]",
      "text/plain": [
       "<Figure size 432x288 with 1 Axes>"
      ]
     },
     "metadata": {
      "needs_background": "light"
     },
     "output_type": "display_data"
    },
    {
     "data": {
      "image/png": "[encoded data removed]",
      "text/plain": [
       "<Figure size 432x288 with 1 Axes>"
      ]
     },
     "metadata": {
      "needs_background": "light"
     },
     "output_type": "display_data"
    },
    {
     "data": {
      "image/png": "[encoded data removed]",
      "text/plain": [
       "<Figure size 432x288 with 1 Axes>"
      ]
     },
     "metadata": {
      "needs_background": "light"
     },
     "output_type": "display_data"
    },
    {
     "data": {
      "image/png": "[encoded data removed]",
      "text/plain": [
       "<Figure size 432x288 with 1 Axes>"
      ]
     },
     "metadata": {
      "needs_background": "light"
     },
     "output_type": "display_data"
    },
    {
     "data": {
      "image/png": "[encoded data removed]",
      "text/plain": [
       "<Figure size 432x288 with 1 Axes>"
      ]
     },
     "metadata": {
      "needs_background": "light"
     },
     "output_type": "display_data"
    },
    {
     "data": {
      "image/png": "[encoded data removed]",
      "text/plain": [
       "<Figure size 432x288 with 1 Axes>"
      ]
     },
     "metadata": {
      "needs_background": "light"
     },
     "output_type": "display_data"
    },
    {
     "data": {
      "image/png": "[encoded data removed]",
      "text/plain": [
       "<Figure size 432x288 with 1 Axes>"
      ]
     },
     "metadata": {
      "needs_background": "light"
     },
     "output_type": "display_data"
    },
    {
     "data": {
      "image/png": "[encoded data removed]",
      "text/plain": [
       "<Figure size 432x288 with 1 Axes>"
      ]
     },
     "metadata": {
      "needs_background": "light"
     },
     "output_type": "display_data"
    },
    {
     "data": {
      "image/png": "[encoded data removed]",
      "text/plain": [
       "<Figure size 432x288 with 1 Axes>"
      ]
     },
     "metadata": {
      "needs_background": "light"
     },
     "output_type": "display_data"
    },
    {
     "data": {
      "image/png": "[encoded data removed]",
      "text/plain": [
       "<Figure size 432x288 with 1 Axes>"
      ]
     },
     "metadata": {
      "needs_background": "light"
     },
     "output_type": "display_data"
    },
    {
     "data": {
      "image/png": "[encoded data removed]",
      "text/plain": [
       "<Figure size 432x288 with 1 Axes>"
      ]
     },
     "metadata": {
      "needs_background": "light"
     },
     "output_type": "display_data"
    },
    {
     "data": {
      "image/png": "[encoded data removed]",
      "text/plain": [
       "<Figure size 432x288 with 1 Axes>"
      ]
     },
     "metadata": {
      "needs_background": "light"
     },
     "output_type": "display_data"
    },
    {
     "data": {
      "image/png": "[encoded data removed]",
      "text/plain": [
       "<Figure size 432x288 with 1 Axes>"
      ]
     },
     "metadata": {
      "needs_background": "light"
     },
     "output_type": "display_data"
    }
   ],
   "source": [
    "print('K=30')\n",
    "for digit in center_list[3]:\n",
    "    display_digit(digit)"
   ]
  },
  {
   "cell_type": "code",
   "execution_count": null,
   "metadata": {},
   "outputs": [],
   "source": []
  }
 ],
 "metadata": {
  "kernelspec": {
   "display_name": "Python 3",
   "language": "python",
   "name": "python3"
  },
  "language_info": {
   "codemirror_mode": {
    "name": "ipython",
    "version": 3
   },
   "file_extension": ".py",
   "mimetype": "text/x-python",
   "name": "python",
   "nbconvert_exporter": "python",
   "pygments_lexer": "ipython3",
   "version": "3.7.1"
  }
 },
 "nbformat": 4,
 "nbformat_minor": 2
}
