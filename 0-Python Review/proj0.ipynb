{
 "cells": [
  {
   "cell_type": "markdown",
   "metadata": {},
   "source": [
    "<big>Problem 1</big>"
   ]
  },
  {
   "cell_type": "code",
   "execution_count": 5,
   "metadata": {},
   "outputs": [],
   "source": [
    "# import scientific computing packages\n",
    "import sys\n",
    "import getpass\n",
    "import numpy as np\n",
    "import pandas as pd\n",
    "import matplotlib.pyplot as plt\n",
    "import scipy\n",
    "import sklearn"
   ]
  },
  {
   "cell_type": "code",
   "execution_count": 6,
   "metadata": {},
   "outputs": [],
   "source": [
    "# import spatial analysis packages\n",
    "import shapely\n",
    "import geopandas as gpd\n",
    "import fiona\n",
    "import pyproj"
   ]
  },
  {
   "cell_type": "code",
   "execution_count": 7,
   "metadata": {},
   "outputs": [],
   "source": [
    "# try to import basemap\n",
    "try:\n",
    "    from mpl_toolkits import basemap\n",
    "except:\n",
    "    pass"
   ]
  },
  {
   "cell_type": "code",
   "execution_count": 8,
   "metadata": {},
   "outputs": [
    {
     "name": "stdout",
     "output_type": "stream",
     "text": [
      "User Name: Seebarsh\n",
      "Python version: 3.7.1 (default, Dec 10 2018, 22:54:23) [MSC v.1915 64 bit (AMD64)]\n",
      "Numpy version: 1.15.4\n",
      "Pandas version: 0.24.0\n",
      "Scipy version: 1.2.0\n",
      "sklearn version: 0.20.2\n",
      "shapely version: 1.6.4.post1\n",
      "Geopandas version: 0.4.0\n",
      "Fiona version: 1.8.4\n",
      "Pyproj version: 1.9.6\n",
      "Basemap version: 1.1.0\n",
      "==== All tests cleared ====\n"
     ]
    }
   ],
   "source": [
    "\"\"\"\n",
    "Execute this block and include the output in your writeup.\n",
    "\"\"\"\n",
    "username = getpass.getuser()\n",
    "print('User Name: %s'%username)\n",
    "print('Python version: %s'%sys.version)\n",
    "print('Numpy version: %s'%np.__version__)\n",
    "print('Pandas version: %s'%pd.__version__)\n",
    "print('Scipy version: %s'%scipy.__version__)\n",
    "print('sklearn version: %s'%sklearn.__version__)\n",
    "\n",
    "print('shapely version: %s'%shapely.__version__)\n",
    "print('Geopandas version: %s'%gpd.__version__)\n",
    "print('Fiona version: %s'%fiona.__version__)\n",
    "print('Pyproj version: %s'%pyproj.__version__)\n",
    "try:\n",
    "    print('Basemap version: %s'%basemap.__version__)\n",
    "except:\n",
    "    print('Basemap not installed. Pass')\n",
    "\n",
    "print('==== All tests cleared ====')"
   ]
  },
  {
   "cell_type": "markdown",
   "metadata": {},
   "source": [
    "<big>Problem 2</big>"
   ]
  },
  {
   "cell_type": "code",
   "execution_count": 9,
   "metadata": {},
   "outputs": [],
   "source": [
    "import string\n",
    "import matplotlib.pyplot as plt\n",
    "import pandas as pd\n",
    "%matplotlib inline"
   ]
  },
  {
   "cell_type": "code",
   "execution_count": 5,
   "metadata": {},
   "outputs": [],
   "source": [
    "class TextMining:\n",
    "    def __init__(self, \n",
    "                 text_file):\n",
    "        self.text_file = text_file\n",
    "        self.load_texts()\n",
    "        self.texts = self._join_texts(self._clean_texts())\n",
    "        \n",
    "    def load_texts(self):\n",
    "        # load text files into the memmory\n",
    "        with open(self.text_file, 'r') as rfile:\n",
    "            self.texts = rfile.readlines()\n",
    "        #print(self.texts)\n",
    "    \n",
    "    def _clean_strings(self, s):\n",
    "        # clean texts:\n",
    "        # 1. capital letters --> lower case letters\n",
    "        # 2. remove \"\\n\"\n",
    "        # 3. remove all punctuations\n",
    "        \n",
    "        s = s.lower()\n",
    "        exclude = set(string.punctuation)\n",
    "        exclude.add('\\n')\n",
    "        exclude.add(\"'\")\n",
    "        s_ = ''.join(ch for ch in s if ch not in exclude)\n",
    "        #print(s_)\n",
    "        return s_\n",
    "        \n",
    "    def _clean_texts(self):\n",
    "        # call _clean_strings() to clean the body of texts\n",
    "        new_texts = []\n",
    "        for _text_ in self.texts:\n",
    "            new_texts.append(self._clean_strings(_text_))\n",
    "        #print(new_texts)\n",
    "        return new_texts    \n",
    "        \n",
    "    def _join_texts(self, t):\n",
    "        # join paragraphs into a big list\n",
    "        s = ''\n",
    "        for _t in t:\n",
    "            s += (' ' + _t)\n",
    "        return s[1:]\n",
    "    \n",
    "    #####################################################################\n",
    "    def count_words(self):\n",
    "        \"\"\"\n",
    "        TODO:\n",
    "        count the number of all words (including numbers) in self.texts\n",
    "        should return an integer number\n",
    "        HINT: use split() function\n",
    "        \"\"\"\n",
    "\n",
    "        count = self.texts.split(' ')\n",
    "        return len(count)\n",
    "    \n",
    "    ####################################################################\n",
    "    def count_unique_words(self):\n",
    "        \"\"\"\n",
    "        TODO:\n",
    "        count the number of unique words in self.texts\n",
    "        should return an integer number\n",
    "        HINT: use set() function\n",
    "        \"\"\"\n",
    "        count = self.texts.split(' ')\n",
    "        unique = set(count)\n",
    "        return len(unique)\n",
    "    \n",
    "    \n",
    "    def unique_characters(self):\n",
    "        \"\"\"\n",
    "        TODO:\n",
    "        return a list of all UNIQUE characters that appear in self.texts\n",
    "        for example: [' ', '0', '5', '9','a','z']\n",
    "        HINT: use set() function\n",
    "        \"\"\"\n",
    "        char = self.texts.replace(' ','')\n",
    "        #print(char)\n",
    "        unique = set(char)\n",
    "        return unique        \n",
    "    \n",
    "    def unique_numbers(self):\n",
    "        \"\"\"\n",
    "        TODO:\n",
    "        return a list of all UNIQUE numbers that appear in self.texts. \n",
    "        NOTICE: the values in the list have to be integers (NOT strings).\n",
    "        for example: [1,3,5,9]\n",
    "        \n",
    "        HINT: \n",
    "        you can use isdigit() to see if a string is a digit number or not.\n",
    "        for example:\n",
    "        a = 'sde'\n",
    "        a.isdigit() --> False\n",
    "        a = '2'\n",
    "        a.isdigit() --> True\n",
    "        \n",
    "        \"\"\"\n",
    "        char = self.unique_characters()\n",
    "        number = []\n",
    "        for a in char:\n",
    "            #print(a.isdigit())\n",
    "            if a.isdigit():\n",
    "                number.append(a)\n",
    "        #print('successfully count unique numbers')\n",
    "        #print(numbers)\n",
    "        return number\n",
    "\n",
    "    ####################################################################\n",
    "    def alphabet_freq(self):\n",
    "        \"\"\"\n",
    "        TODO:\n",
    "        return the dictionary dict_alphabet where the keys are the alphabet letters \n",
    "        (i.e., 'a', 'b', 'c', ..., 'z') and the values are the frequencies of the corresponding keys.\n",
    "        for example: {'a': 2002, \n",
    "                      'b': 4000,\n",
    "                      'c': 2231,\n",
    "                      'd': 3000,\n",
    "                      ...}\n",
    "        \"\"\"\n",
    "        dict_alphabet = {s: 0 for s in list(string.ascii_lowercase)}\n",
    "        text = self.texts.replace(' ','')\n",
    "        for char in text:\n",
    "            for key in dict_alphabet.keys():\n",
    "                if char.isalpha():\n",
    "                    if char == key:\n",
    "                        dict_alphabet[char] += 1\n",
    "        #or if char in dict_alphabet.keys()\n",
    "        return dict_alphabet\n",
    "    \n",
    "    def alphabet_freq_df(self, alphabet_dict):\n",
    "        \"\"\"\n",
    "        TODO:\n",
    "        The input alphabet_dict is the output from freq_alphabet()\n",
    "        return a pandas dataframe where the first column of the dataframe is the alphabet \n",
    "        and the second column of the dataframe is the frequency\n",
    "        HINT:\n",
    "        You can use pd.DataFrame.from_dict() function\n",
    "        \"\"\"\n",
    "        alphabet_dict = self.alphabet_freq() \n",
    "        df = pd.DataFrame.from_dict(alphabet_dict, orient = 'index')\n",
    "        df = df.rename(index=str, columns={0: \"frequency\"})\n",
    "        df = df.sort_index()\n",
    "        #print(df)\n",
    "        return df\n",
    "    \n",
    "    def plot_alphabet(self, alphabet_df):\n",
    "        \"\"\"\n",
    "        TODO:\n",
    "        The input alphabet_df is the output from alphabet_freq_df()\n",
    "        plot a histogram of alphabet where the x-axis shows the alphabet letters and \n",
    "        the y-axis shows the frequency of the letter\n",
    "        HINT:\n",
    "        You can directly plot a bar plot using df.plot(kind = 'bar')\n",
    "        \"\"\"\n",
    "        alphabet_df = self.alphabet_freq_df(self.alphabet_freq())\n",
    "        alphabet_df.plot( kind = 'bar')\n",
    "        return\n",
    "    ####################################################################"
   ]
  },
  {
   "cell_type": "code",
   "execution_count": 6,
   "metadata": {},
   "outputs": [
    {
     "name": "stdout",
     "output_type": "stream",
     "text": [
      "3952\n",
      "1145\n",
      "{'2', 'n', '1', '7', 'z', 'o', 'r', 'a', 'b', 'y', 'd', 'h', 'l', 'm', 'k', 'f', 'x', 'p', 'e', 'w', 'u', 'i', 'j', 'q', 't', 'g', 'v', '0', 'c', 's', '9'}\n",
      "['2', '1', '7', '0', '9']\n",
      "{'l': 648, 'm': 420, 'n': 1366, 'k': 124, 'f': 394, 'x': 41, 'p': 289, 'e': 2175, 'w': 342, 'u': 569, 'z': 23, 'o': 1425, 'r': 984, 'i': 1274, 'j': 27, 'q': 10, 'a': 1394, 'b': 254, 'y': 353, 't': 1937, 'g': 413, 'd': 719, 'v': 164, 'h': 1044, 'c': 539, 's': 1067}\n"
     ]
    },
    {
     "data": {
      "image/png": "[encoded data removed]",
      "text/plain": [
       "<matplotlib.figure.Figure at 0x2640a4aee48>"
      ]
     },
     "metadata": {},
     "output_type": "display_data"
    }
   ],
   "source": [
    "\"\"\"\n",
    "Execute this block and include the output in your writeup.\n",
    "\"\"\"\n",
    "text_obj = TextMining('excerpts_dark_forest.txt')\n",
    "print(text_obj.count_words())\n",
    "print(text_obj.count_unique_words())\n",
    "print(text_obj.unique_characters())\n",
    "print(text_obj.unique_numbers())\n",
    "\n",
    "print(text_obj.alphabet_freq())\n",
    "\n",
    "alphabet_freq = text_obj.alphabet_freq()\n",
    "freq_df = text_obj.alphabet_freq_df(alphabet_freq)\n",
    "text_obj.plot_alphabet(freq_df)"
   ]
  },
  {
   "cell_type": "markdown",
   "metadata": {},
   "source": [
    "<big>Problem 3</big>"
   ]
  },
  {
   "cell_type": "code",
   "execution_count": 10,
   "metadata": {},
   "outputs": [],
   "source": [
    "from shapely.geometry import Polygon, Point, LineString"
   ]
  },
  {
   "cell_type": "code",
   "execution_count": 2,
   "metadata": {},
   "outputs": [],
   "source": [
    "\"\"\"\n",
    "HINT:\n",
    "Check https://shapely.readthedocs.io/en/stable/manual.html for details (it has almost everything you need)\n",
    "\"\"\"\n",
    "def create_polygons(boundary_coords):\n",
    "    poly = Polygon(boundary_coords)\n",
    "    return poly\n",
    "\n",
    "def calculate_areas_of_intersection(poly1, poly2):\n",
    "    \"\"\"\n",
    "    TODO:\n",
    "    1. find the intersection of two polygons\n",
    "    2. calculate the area of the intersection(s)\n",
    "    \"\"\"\n",
    "    x = poly1.intersection(poly2).area\n",
    "    return x\n",
    "\n",
    "def calculate_areas_of_union(poly1, poly2):\n",
    "    \"\"\"\n",
    "    TODO:\n",
    "    1. find the union of two polygons\n",
    "    2. calculate the area of the union(s)\n",
    "    \"\"\"\n",
    "    union = poly1.union(poly2).area\n",
    "    return union\n",
    "\n",
    "def create_line_strings(ls_coords):\n",
    "    \n",
    "    return LineString(ls_coords)\n",
    "\n",
    "def check_intersect_of_ls(ls1, ls2):\n",
    "    \"\"\"\n",
    "    TODO:\n",
    "    return True if two line strings intersect\n",
    "    return False otherwise\n",
    "    \"\"\"\n",
    "    return ls1.crosses(ls2)"
   ]
  },
  {
   "cell_type": "code",
   "execution_count": 3,
   "metadata": {},
   "outputs": [],
   "source": [
    "boundary_poly1 = [(26.28843, -81.2289),(26.28758, -81.20704),(26.25265, -81.17424),(26.10507, -81.05399),(26.07176, -81.05371),(25.96929, -81.05366),(25.93087, -81.09241),(25.89438, -81.13046),(25.85724, -81.21336),(25.85678, -81.23206),(25.85678, -81.26908),(25.85747, -81.30706),(25.89316, -81.35036),(25.97398, -81.4368),(26.13718, -81.4368),(26.2164 ,-81.34938),(26.23962, -81.32186),(26.2519 ,-81.30656),(26.28843, -81.2289)]\n",
    "boundary_poly2 = [(26.39642, -80.33508),(26.35857, -80.21314),(26.3348 ,-80.21249),(26.29274, -80.21259),(26.14611, -80.25098),(26.11615, -80.289),(26.10832, -80.30208),(26.07566, -80.36576),(26.03664, -80.49353),(26.03635, -80.51376),(26.03639, -80.53557),(26.03675, -80.58669),(26.05827, -80.59536),(26.24977, -80.59516),(26.28015, -80.59478),(26.32421, -80.55287),(26.36002, -80.50745),(26.39595, -80.43837),(26.39642, -80.33508)]\n",
    "boundary_poly3 = [(26.6078 ,-80.37978),(26.56995, -80.25784),(26.54618, -80.25719),(26.50412, -80.25729),(26.35749, -80.29568),(26.32753, -80.33369),(26.31969, -80.34678),(26.28703, -80.41045),(26.24802, -80.53823),(26.24773, -80.55846),(26.24777, -80.58027),(26.24813, -80.63139),(26.26965, -80.64005),(26.46114, -80.63986),(26.49153, -80.63948),(26.53559, -80.59756),(26.5714 ,-80.55215),(26.60732, -80.48306),(26.6078 ,-80.37978)]\n",
    "coords_ls1 = [(39.1833, -76.7333),(39.2000, -76.8000),(39.2167, -76.8667),(39.2500, -76.9500),(39.2667, -77.0333),(39.3000, -77.1333),(39.3500, -77.2500),(39.3833, -77.3500),(39.4167, -77.4667),(39.4500, -77.5833),(39.4833, -77.7000),(39.5167, -77.8000),(39.5500, -77.9167),(39.5833, -78.0333),(39.6500, -78.2500),(39.7000, -78.3833),(39.7333, -78.5167),(39.7667, -78.6500),(39.8333, -78.7667),(39.8833, -78.9000),(39.9500, -79.0167),(40.0000, -79.1333),(40.0667, -79.2667),(40.1167, -79.3833),(40.1833, -79.5000),(40.2333, -79.6333),(40.3000, -79.7667),(40.3500, -79.9000),(40.4167, -80.0333),(40.4833, -80.1500),(40.5333, -80.2833),(40.6000, -80.4167),(40.6500, -80.5667),(40.7000, -80.7000),(40.7500, -80.8500),(40.8000, -80.9833),(40.8333, -81.1167),(40.8833, -81.2500),(40.9333, -81.3833)]\n",
    "coords_ls2 = [(38.767, -83.917),(38.700, -83.733),(38.650, -83.583),(38.583, -83.383),(38.517, -83.200),(38.450, -83.017),(38.383, -82.833),(38.317, -82.633),(38.250, -82.450),(38.183, -82.283),(38.050, -81.917),(37.983, -81.750),(37.933, -81.583),(37.867, -81.417),(37.800, -81.267),(37.733, -81.100),(37.667, -80.933),(37.617, -80.767),(37.550, -80.583),(37.483, -80.417),(37.417, -80.250),(37.350, -80.083),(37.267, -79.950),(37.183, -79.817),(37.100, -79.683),(37.000, -79.533),(36.917, -79.400),(36.833, -79.267),(36.767, -79.150),(36.683, -79.033),(36.617, -79.000),(36.550, -78.983),(36.467, -78.967),(36.400, -78.933),(36.333, -78.900),(36.283, -78.817),(36.233, -78.733),(36.183, -78.650),(36.150, -78.583),(36.100, -78.517),(36.067, -78.550),(36.000, -78.650),(35.967, -78.683),(35.933, -78.733),(35.900, -78.767)]"
   ]
  },
  {
   "cell_type": "code",
   "execution_count": 4,
   "metadata": {},
   "outputs": [],
   "source": [
    "poly1 = create_polygons(boundary_poly1)\n",
    "poly2 = create_polygons(boundary_poly2)\n",
    "poly3 = create_polygons(boundary_poly3)\n",
    "poly4 = Point((26.5,-80.5)).buffer(0.25)"
   ]
  },
  {
   "cell_type": "code",
   "execution_count": 5,
   "metadata": {},
   "outputs": [
    {
     "data": {
      "image/svg+xml": [
       "<svg xmlns=\"http://www.w3.org/2000/svg\" xmlns:xlink=\"http://www.w3.org/1999/xlink\" width=\"100.0\" height=\"100.0\" viewBox=\"25.839514 -81.45406600000001 0.4661819999999999 0.41767200000002447\" preserveAspectRatio=\"xMinYMin meet\"><g transform=\"matrix(1,0,0,-1,0,-162.49045999999998)\"><path fill-rule=\"evenodd\" fill=\"#66cc99\" stroke=\"#555555\" stroke-width=\"0.009323639999999998\" opacity=\"0.6\" d=\"M 26.28843,-81.2289 L 26.28758,-81.20704 L 26.25265,-81.17424 L 26.10507,-81.05399 L 26.07176,-81.05371 L 25.96929,-81.05366 L 25.93087,-81.09241 L 25.89438,-81.13046 L 25.85724,-81.21336 L 25.85678,-81.23206 L 25.85678,-81.26908 L 25.85747,-81.30706 L 25.89316,-81.35036 L 25.97398,-81.4368 L 26.13718,-81.4368 L 26.2164,-81.34938 L 26.23962,-81.32186 L 26.2519,-81.30656 L 26.28843,-81.2289 z\" /></g></svg>"
      ],
      "text/plain": [
       "<shapely.geometry.polygon.Polygon at 0x28f5ecff3c8>"
      ]
     },
     "execution_count": 5,
     "metadata": {},
     "output_type": "execute_result"
    }
   ],
   "source": [
    "poly1"
   ]
  },
  {
   "cell_type": "code",
   "execution_count": 6,
   "metadata": {},
   "outputs": [],
   "source": [
    "ls1 = create_line_strings(coords_ls1)\n",
    "ls2 = create_line_strings(coords_ls2)"
   ]
  },
  {
   "cell_type": "code",
   "execution_count": 7,
   "metadata": {},
   "outputs": [
    {
     "name": "stdout",
     "output_type": "stream",
     "text": [
      "0.0\n",
      "0.02593924931133175\n",
      "0.10779517711658397\n",
      "0.2331291194000023\n",
      "0.27697014244275203\n",
      "0.1981096331925395\n",
      "False\n"
     ]
    }
   ],
   "source": [
    "\"\"\"\n",
    "Execute this block and include the output in your writeup.\n",
    "\"\"\"\n",
    "print(calculate_areas_of_intersection(poly1, poly2))\n",
    "print(calculate_areas_of_intersection(poly2, poly3))\n",
    "print(calculate_areas_of_intersection(poly3, poly4))\n",
    "print(calculate_areas_of_union(poly1, poly2))\n",
    "print(calculate_areas_of_union(poly2, poly4))\n",
    "print(calculate_areas_of_union(poly3, poly4))\n",
    "print(check_intersect_of_ls(ls1, ls2))"
   ]
  },
  {
   "cell_type": "markdown",
   "metadata": {},
   "source": [
    "### Task 2: Explore geopandas"
   ]
  },
  {
   "cell_type": "code",
   "execution_count": 3,
   "metadata": {},
   "outputs": [],
   "source": [
    "import geopandas as gpd\n",
    "import pandas as pd\n",
    "import numpy as np"
   ]
  },
  {
   "cell_type": "code",
   "execution_count": 4,
   "metadata": {},
   "outputs": [],
   "source": [
    "artcc_df = gpd.GeoDataFrame.from_file('shp/artcc_cont.shp')[['Name', 'geometry']]\n",
    "tracks = pd.read_csv('shp/sample_tracks.csv', parse_dates=[1])"
   ]
  },
  {
   "cell_type": "code",
   "execution_count": 5,
   "metadata": {},
   "outputs": [
    {
     "data": {
      "text/html": [
       "<div>\n",
       "<style scoped>\n",
       "    .dataframe tbody tr th:only-of-type {\n",
       "        vertical-align: middle;\n",
       "    }\n",
       "\n",
       "    .dataframe tbody tr th {\n",
       "        vertical-align: top;\n",
       "    }\n",
       "\n",
       "    .dataframe thead th {\n",
       "        text-align: right;\n",
       "    }\n",
       "</style>\n",
       "<table border=\"1\" class=\"dataframe\">\n",
       "  <thead>\n",
       "    <tr style=\"text-align: right;\">\n",
       "      <th></th>\n",
       "      <th>Name</th>\n",
       "      <th>geometry</th>\n",
       "    </tr>\n",
       "  </thead>\n",
       "  <tbody>\n",
       "    <tr>\n",
       "      <th>0</th>\n",
       "      <td>ARTCC ZAB</td>\n",
       "      <td>POLYGON Z ((-111.841666667 35.76666666700004 0...</td>\n",
       "    </tr>\n",
       "    <tr>\n",
       "      <th>1</th>\n",
       "      <td>ARTCC ZAU</td>\n",
       "      <td>POLYGON Z ((-93.46666666699997 41.666666667000...</td>\n",
       "    </tr>\n",
       "    <tr>\n",
       "      <th>2</th>\n",
       "      <td>ARTCC ZNY</td>\n",
       "      <td>POLYGON Z ((-76.69722222199994 42.727777778000...</td>\n",
       "    </tr>\n",
       "  </tbody>\n",
       "</table>\n",
       "</div>"
      ],
      "text/plain": [
       "        Name                                           geometry\n",
       "0  ARTCC ZAB  POLYGON Z ((-111.841666667 35.76666666700004 0...\n",
       "1  ARTCC ZAU  POLYGON Z ((-93.46666666699997 41.666666667000...\n",
       "2  ARTCC ZNY  POLYGON Z ((-76.69722222199994 42.727777778000..."
      ]
     },
     "execution_count": 5,
     "metadata": {},
     "output_type": "execute_result"
    }
   ],
   "source": [
    "artcc_df.head(3)"
   ]
  },
  {
   "cell_type": "code",
   "execution_count": 6,
   "metadata": {},
   "outputs": [
    {
     "data": {
      "text/html": [
       "<div>\n",
       "<style scoped>\n",
       "    .dataframe tbody tr th:only-of-type {\n",
       "        vertical-align: middle;\n",
       "    }\n",
       "\n",
       "    .dataframe tbody tr th {\n",
       "        vertical-align: top;\n",
       "    }\n",
       "\n",
       "    .dataframe thead th {\n",
       "        text-align: right;\n",
       "    }\n",
       "</style>\n",
       "<table border=\"1\" class=\"dataframe\">\n",
       "  <thead>\n",
       "    <tr style=\"text-align: right;\">\n",
       "      <th></th>\n",
       "      <th>ACID</th>\n",
       "      <th>Elap_Time</th>\n",
       "      <th>Lat</th>\n",
       "      <th>Lon</th>\n",
       "      <th>Alt</th>\n",
       "    </tr>\n",
       "  </thead>\n",
       "  <tbody>\n",
       "    <tr>\n",
       "      <th>0</th>\n",
       "      <td>UAL386</td>\n",
       "      <td>2013-01-01 01:08:00</td>\n",
       "      <td>29.983333</td>\n",
       "      <td>-95.300000</td>\n",
       "      <td>8</td>\n",
       "    </tr>\n",
       "    <tr>\n",
       "      <th>1</th>\n",
       "      <td>UAL386</td>\n",
       "      <td>2013-01-01 01:09:00</td>\n",
       "      <td>30.016667</td>\n",
       "      <td>-95.266667</td>\n",
       "      <td>26</td>\n",
       "    </tr>\n",
       "    <tr>\n",
       "      <th>2</th>\n",
       "      <td>UAL386</td>\n",
       "      <td>2013-01-01 01:11:00</td>\n",
       "      <td>30.166667</td>\n",
       "      <td>-95.233333</td>\n",
       "      <td>86</td>\n",
       "    </tr>\n",
       "  </tbody>\n",
       "</table>\n",
       "</div>"
      ],
      "text/plain": [
       "     ACID           Elap_Time        Lat        Lon  Alt\n",
       "0  UAL386 2013-01-01 01:08:00  29.983333 -95.300000    8\n",
       "1  UAL386 2013-01-01 01:09:00  30.016667 -95.266667   26\n",
       "2  UAL386 2013-01-01 01:11:00  30.166667 -95.233333   86"
      ]
     },
     "execution_count": 6,
     "metadata": {},
     "output_type": "execute_result"
    }
   ],
   "source": [
    "tracks.head(3)"
   ]
  },
  {
   "cell_type": "code",
   "execution_count": 7,
   "metadata": {},
   "outputs": [
    {
     "name": "stdout",
     "output_type": "stream",
     "text": [
      "Unique flights: ['UAL386' 'UAL1295' 'UAL593']\n"
     ]
    }
   ],
   "source": [
    "print('Unique flights:', tracks.ACID.unique())"
   ]
  },
  {
   "cell_type": "code",
   "execution_count": 8,
   "metadata": {},
   "outputs": [],
   "source": [
    "def find_crossing_artcc(flight_id, \n",
    "                        flight_tracks_df, \n",
    "                        artcc_df):\n",
    "    \"\"\"\n",
    "    TODO:\n",
    "    Inputs:\n",
    "        flight_id: the flight identifier, e.g., \"UAL386\"\n",
    "        flight_tracks_df: the data frame that contains the flight tracks\n",
    "        artcc_df: the data frame that contains the ARTCC geometry information\n",
    "    Task:\n",
    "        for flight \"flight_id\", find all ARTCCs that it crosses.\n",
    "        for example, flight \"UAL386\" crosses \"ZHU\", \"ZBW\", ..., \"ZNY\"\n",
    "    Return:\n",
    "        a list of all crossing ARTCCs' name\n",
    "        for example: ['ARTCC ZHU', ..., 'ARTCC ZNY']\n",
    "    \"\"\"\n",
    "    flight_tracks_df = flight_tracks_df[flight_tracks_df['ACID'] == flight_id]\n",
    "    flight_tracks_df['Coordinates'] = list(zip(flight_tracks_df.Lon, flight_tracks_df.Lat))\n",
    "    flight_tracks_df['Coordinates'] = flight_tracks_df['Coordinates'].apply(Point)\n",
    "    gdf = gpd.GeoDataFrame(flight_tracks_df, geometry='Coordinates')\n",
    "    ##line = create_line_strings(flight_tracks_df['Coordinates'])\n",
    "    intersect = gpd.sjoin(artcc_df, gdf, how='inner', op='contains')\n",
    "    \n",
    "    return intersect.Name.unique()"
   ]
  },
  {
   "cell_type": "code",
   "execution_count": 11,
   "metadata": {},
   "outputs": [
    {
     "name": "stdout",
     "output_type": "stream",
     "text": [
      "flight UAL386 crossed:  ['ARTCC ZNY' 'ARTCC ZBW' 'ARTCC ZFW' 'ARTCC ZHU' 'ARTCC ZID' 'ARTCC ZME'\n",
      " 'ARTCC ZOB']\n"
     ]
    }
   ],
   "source": [
    "\"\"\"\n",
    "Execute this block and include the output in your writeup.\n",
    "\"\"\"\n",
    "import warnings\n",
    "warnings.filterwarnings('ignore')\n",
    "\n",
    "crossed_artcc = find_crossing_artcc(flight_id = 'UAL386', \n",
    "                                    flight_tracks_df = tracks, \n",
    "                                    artcc_df = artcc_df)\n",
    "print('flight UAL386 crossed: ', crossed_artcc)"
   ]
  },
  {
   "cell_type": "code",
   "execution_count": 12,
   "metadata": {},
   "outputs": [
    {
     "name": "stdout",
     "output_type": "stream",
     "text": [
      "flight UAL1295 crossed:  ['ARTCC ZNY' 'ARTCC ZBW' 'ARTCC ZDC' 'ARTCC ZFW' 'ARTCC ZHU' 'ARTCC ZID'\n",
      " 'ARTCC ZME']\n"
     ]
    }
   ],
   "source": [
    "\"\"\"\n",
    "Execute this block and include the output in your writeup.\n",
    "\"\"\"\n",
    "\n",
    "\n",
    "crossed_artcc = find_crossing_artcc(flight_id = 'UAL1295', \n",
    "                                    flight_tracks_df = tracks, \n",
    "                                    artcc_df = artcc_df)\n",
    "print('flight UAL1295 crossed: ', crossed_artcc)"
   ]
  },
  {
   "cell_type": "code",
   "execution_count": 13,
   "metadata": {},
   "outputs": [
    {
     "name": "stdout",
     "output_type": "stream",
     "text": [
      "flight UAL593 crossed:  ['ARTCC ZNY' 'ARTCC ZBW' 'ARTCC ZDC' 'ARTCC ZHU' 'ARTCC ZTL']\n"
     ]
    }
   ],
   "source": [
    "\"\"\"\n",
    "Execute this block and include the output in your writeup.\n",
    "\"\"\"\n",
    "crossed_artcc = find_crossing_artcc(flight_id = 'UAL593', \n",
    "                                    flight_tracks_df = tracks, \n",
    "                                    artcc_df = artcc_df)\n",
    "print('flight UAL593 crossed: ', crossed_artcc)"
   ]
  },
  {
   "cell_type": "markdown",
   "metadata": {},
   "source": [
    "### Extra Credit"
   ]
  },
  {
   "cell_type": "code",
   "execution_count": 14,
   "metadata": {},
   "outputs": [],
   "source": [
    "def find_crossing_artcc_order(flight_id, \n",
    "                             flight_tracks_df, \n",
    "                             artcc_df):\n",
    "   \n",
    "    flight_tracks_df = flight_tracks_df[flight_tracks_df['ACID'] == flight_id]\n",
    "    flight_tracks_df['Coordinates'] = list(zip(flight_tracks_df.Lon, flight_tracks_df.Lat))\n",
    "    flight_tracks_df['Coordinates'] = flight_tracks_df['Coordinates'].apply(Point)\n",
    "    gdf = gpd.GeoDataFrame(flight_tracks_df, geometry='Coordinates')\n",
    "\n",
    "    intersect = gpd.sjoin(artcc_df, gdf, how='inner', op='contains')\n",
    "    intersect.sort_values(by = \"Elap_Time\", axis=0, ascending=True)  \n",
    "    \n",
    "    return intersect.Name.unique()\n"
   ]
  },
  {
   "cell_type": "code",
   "execution_count": 42,
   "metadata": {},
   "outputs": [
    {
     "name": "stdout",
     "output_type": "stream",
     "text": [
      "flight UAL386 crossed:  ['ARTCC ZNY' 'ARTCC ZBW' 'ARTCC ZFW' 'ARTCC ZHU' 'ARTCC ZID' 'ARTCC ZME'\n",
      " 'ARTCC ZOB']\n",
      "flight UAL1295 crossed:  ['ARTCC ZNY' 'ARTCC ZBW' 'ARTCC ZDC' 'ARTCC ZFW' 'ARTCC ZHU' 'ARTCC ZID'\n",
      " 'ARTCC ZME']\n",
      "flight UAL593 crossed:  ['ARTCC ZNY' 'ARTCC ZBW' 'ARTCC ZDC' 'ARTCC ZHU' 'ARTCC ZTL']\n"
     ]
    }
   ],
   "source": [
    "\"\"\"\n",
    "Execute this block and include the output in your writeup.\n",
    "\"\"\"\n",
    "crossed_artcc = find_crossing_artcc_order(flight_id = 'UAL386', \n",
    "                                         flight_tracks_df = tracks, \n",
    "                                         artcc_df = artcc_df)\n",
    "print('flight UAL386 crossed: ', crossed_artcc)\n",
    "\n",
    "crossed_artcc = find_crossing_artcc_order(flight_id = 'UAL1295', \n",
    "                                          flight_tracks_df = tracks, \n",
    "                                          artcc_df = artcc_df)\n",
    "print('flight UAL1295 crossed: ', crossed_artcc)\n",
    "\n",
    "crossed_artcc = find_crossing_artcc_order(flight_id = 'UAL593', \n",
    "                                          flight_tracks_df = tracks, \n",
    "                                          artcc_df = artcc_df)\n",
    "print('flight UAL593 crossed: ', crossed_artcc)"
   ]
  },
  {
   "cell_type": "code",
   "execution_count": 2,
   "metadata": {},
   "outputs": [],
   "source": [
    "from mpl_toolkits.basemap import Basemap\n",
    "import matplotlib.pyplot as plt\n",
    "import matplotlib.patches as plt_patch\n",
    "%matplotlib inline"
   ]
  },
  {
   "cell_type": "code",
   "execution_count": 53,
   "metadata": {},
   "outputs": [],
   "source": [
    "def plot_on_map(flight_tracks_df,\n",
    "                artcc_df):\n",
    "    \n",
    "    fig = plt.figure(figsize=(12,8))\n",
    "    \n",
    "    m = Basemap(llcrnrlon = -128, llcrnrlat = 22.5, urcrnrlon = -63, urcrnrlat = 50, projection='merc')\n",
    "    m.drawcoastlines(linewidth=0.5)\n",
    "    m.drawcountries(linewidth=0.5)\n",
    "    m.drawstates(linewidth=0.2)\n",
    "    \"\"\"\n",
    "    TODO:\n",
    "    finish the code to plot all ARTCCs and flights on the US map\n",
    "    \"\"\"\n",
    "    GRAY = '#000000'\n",
    "    \n",
    "    #plot flights\n",
    "    lat = flight_tracks_df.Lat.values\n",
    "    lon = flight_tracks_df.Lon.values  \n",
    "    x, y = m(lon, lat)\n",
    "    m.scatter(x, y, marker = 'o', color='r')\n",
    "    \n",
    "    for i in range(20):\n",
    "        poly = artcc_df['geometry'][i]\n",
    "        coords = np.array(poly.boundary.coords)[:,0:2]\n",
    "        lons = coords[:,0]\n",
    "        lats = coords[:,1]\n",
    "        x, y = m( lons, lats )\n",
    "        xy = zip(x,y)\n",
    "        patch = plt_patch.Polygon(list(xy), fc=(i/20,i/20,i/20), ec=GRAY, alpha=0.5, zorder=2)\n",
    "        plt.gca().add_patch(patch)\n",
    "    \n",
    "    plt.show()\n",
    "    return m"
   ]
  },
  {
   "cell_type": "code",
   "execution_count": 54,
   "metadata": {},
   "outputs": [
    {
     "data": {
      "image/png": "[encoded data removed]",
      "text/plain": [
       "<Figure size 864x576 with 1 Axes>"
      ]
     },
     "metadata": {},
     "output_type": "display_data"
    }
   ],
   "source": [
    "plot_on_map(tracks, artcc_df)\n",
    "plt.show()"
   ]
  },
  {
   "cell_type": "code",
   "execution_count": null,
   "metadata": {},
   "outputs": [],
   "source": []
  }
 ],
 "metadata": {
  "kernelspec": {
   "display_name": "Python 3",
   "language": "python",
   "name": "python3"
  },
  "language_info": {
   "codemirror_mode": {
    "name": "ipython",
    "version": 3
   },
   "file_extension": ".py",
   "mimetype": "text/x-python",
   "name": "python",
   "nbconvert_exporter": "python",
   "pygments_lexer": "ipython3",
   "version": "3.7.1"
  }
 },
 "nbformat": 4,
 "nbformat_minor": 2
}
