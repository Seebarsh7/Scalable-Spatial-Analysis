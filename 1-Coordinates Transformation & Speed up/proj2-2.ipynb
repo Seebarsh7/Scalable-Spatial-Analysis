{
 "cells": [
  {
   "cell_type": "code",
   "execution_count": 1,
   "metadata": {},
   "outputs": [],
   "source": [
    "%load_ext autoreload\n",
    "%autoreload 2\n",
    "import numpy as np\n",
    "import pandas as pd\n",
    "\n",
    "import evil_transform\n",
    "from utils import load_sample, check_transform, check_vanilla_better_et, plot_gps\n",
    "import time"
   ]
  },
  {
   "cell_type": "code",
   "execution_count": 2,
   "metadata": {},
   "outputs": [
    {
     "name": "stdout",
     "output_type": "stream",
     "text": [
      "sample file has shape: (18834290, 5)\n"
     ]
    },
    {
     "data": {
      "text/html": [
       "<div>\n",
       "<style scoped>\n",
       "    .dataframe tbody tr th:only-of-type {\n",
       "        vertical-align: middle;\n",
       "    }\n",
       "\n",
       "    .dataframe tbody tr th {\n",
       "        vertical-align: top;\n",
       "    }\n",
       "\n",
       "    .dataframe thead th {\n",
       "        text-align: right;\n",
       "    }\n",
       "</style>\n",
       "<table border=\"1\" class=\"dataframe\">\n",
       "  <thead>\n",
       "    <tr style=\"text-align: right;\">\n",
       "      <th></th>\n",
       "      <th>driver_id</th>\n",
       "      <th>order_id</th>\n",
       "      <th>time</th>\n",
       "      <th>lon</th>\n",
       "      <th>lat</th>\n",
       "    </tr>\n",
       "  </thead>\n",
       "  <tbody>\n",
       "    <tr>\n",
       "      <th>0</th>\n",
       "      <td>af7ff9e09ccb91b0638c969f1b90fc05</td>\n",
       "      <td>03cb74776ae3f1f8c13ba29150b80dad</td>\n",
       "      <td>1476329988</td>\n",
       "      <td>108.95218</td>\n",
       "      <td>34.24113</td>\n",
       "    </tr>\n",
       "    <tr>\n",
       "      <th>1</th>\n",
       "      <td>af7ff9e09ccb91b0638c969f1b90fc05</td>\n",
       "      <td>03cb74776ae3f1f8c13ba29150b80dad</td>\n",
       "      <td>1476330027</td>\n",
       "      <td>108.95483</td>\n",
       "      <td>34.24107</td>\n",
       "    </tr>\n",
       "    <tr>\n",
       "      <th>2</th>\n",
       "      <td>af7ff9e09ccb91b0638c969f1b90fc05</td>\n",
       "      <td>03cb74776ae3f1f8c13ba29150b80dad</td>\n",
       "      <td>1476329985</td>\n",
       "      <td>108.95181</td>\n",
       "      <td>34.24113</td>\n",
       "    </tr>\n",
       "    <tr>\n",
       "      <th>3</th>\n",
       "      <td>af7ff9e09ccb91b0638c969f1b90fc05</td>\n",
       "      <td>03cb74776ae3f1f8c13ba29150b80dad</td>\n",
       "      <td>1476330024</td>\n",
       "      <td>108.95453</td>\n",
       "      <td>34.24107</td>\n",
       "    </tr>\n",
       "    <tr>\n",
       "      <th>4</th>\n",
       "      <td>af7ff9e09ccb91b0638c969f1b90fc05</td>\n",
       "      <td>03cb74776ae3f1f8c13ba29150b80dad</td>\n",
       "      <td>1476330039</td>\n",
       "      <td>108.95597</td>\n",
       "      <td>34.24107</td>\n",
       "    </tr>\n",
       "  </tbody>\n",
       "</table>\n",
       "</div>"
      ],
      "text/plain": [
       "                          driver_id                          order_id  \\\n",
       "0  af7ff9e09ccb91b0638c969f1b90fc05  03cb74776ae3f1f8c13ba29150b80dad   \n",
       "1  af7ff9e09ccb91b0638c969f1b90fc05  03cb74776ae3f1f8c13ba29150b80dad   \n",
       "2  af7ff9e09ccb91b0638c969f1b90fc05  03cb74776ae3f1f8c13ba29150b80dad   \n",
       "3  af7ff9e09ccb91b0638c969f1b90fc05  03cb74776ae3f1f8c13ba29150b80dad   \n",
       "4  af7ff9e09ccb91b0638c969f1b90fc05  03cb74776ae3f1f8c13ba29150b80dad   \n",
       "\n",
       "         time        lon       lat  \n",
       "0  1476329988  108.95218  34.24113  \n",
       "1  1476330027  108.95483  34.24107  \n",
       "2  1476329985  108.95181  34.24113  \n",
       "3  1476330024  108.95453  34.24107  \n",
       "4  1476330039  108.95597  34.24107  "
      ]
     },
     "execution_count": 2,
     "metadata": {},
     "output_type": "execute_result"
    }
   ],
   "source": [
    "Sample = pd.read_csv('data/xian/gps_20161013', header=None,names=['driver_id', 'order_id', 'time', 'lon', 'lat']) \n",
    "sample = load_sample('data/xian/gps_20161013', nrows = None)\n",
    "print('sample file has shape:', sample.shape)\n",
    "Sample.head()"
   ]
  },
  {
   "cell_type": "code",
   "execution_count": 3,
   "metadata": {},
   "outputs": [],
   "source": [
    "def better_et(sample_df):\n",
    "\n",
    "    \"\"\"\n",
    "    TODO:\n",
    "    This should be a faster version of vanilla_et()\n",
    "    The input is the dataframe of the DiDi datasets\n",
    "    The output should also be a dataframe, but with two additional columns -- lat_wgs and lon_wgs -- \n",
    "        which are the converted coordiantes from GCJ-2\n",
    "    \"\"\"\n",
    "    sample_df_1 = sample_df[(sample_df['lon'] > 108.946)&\n",
    "                         (sample_df['lon'] < 108.948)&\n",
    "                          (sample_df['lat'] > 34.232)&\n",
    "                          (sample_df['lat'] < 34.240)].reset_index(drop = True)\n",
    "                          \n",
    "    sample_df_out = sample_df_1.copy()\n",
    "    v = np.vectorize(evil_transform.gcj2wgs_exact)\n",
    "    result = v(sample_df_out.lat, sample_df_out.lon)\n",
    "    a = pd.Series(result[0]).to_frame()\n",
    "    a.rename(columns = {0:'lat_wgs'}, inplace = True)\n",
    "    b = pd.Series(result[1]).to_frame()\n",
    "    b.rename(columns = {0:'lon_wgs'}, inplace = True)\n",
    "    sample_df_out = pd.concat([sample_df_1,a, b],axis = 1)\n",
    "    \n",
    "    return sample_df_out"
   ]
  },
  {
   "cell_type": "code",
   "execution_count": 5,
   "metadata": {},
   "outputs": [
    {
     "name": "stdout",
     "output_type": "stream",
     "text": [
      "trip file has shape: (18834290, 5)\n"
     ]
    }
   ],
   "source": [
    "trips_df = load_sample('data/xian/gps_20161013', nrows = None)\n",
    "# WGS-84 coords for the boundary of the area of interest\n",
    "p1 = (34.241, 108.943)\n",
    "p2 = (34.241, 108.9415)\n",
    "p3 = (34.234, 108.9415)\n",
    "p4 = (34.234, 108.943)\n",
    "print('trip file has shape:', trips_df.shape)"
   ]
  },
  {
   "cell_type": "code",
   "execution_count": 6,
   "metadata": {},
   "outputs": [],
   "source": [
    "trips_df_et = better_et(trips_df)"
   ]
  },
  {
   "cell_type": "markdown",
   "metadata": {},
   "source": [
    "### Task 1.3: Crop region of interest"
   ]
  },
  {
   "cell_type": "code",
   "execution_count": 7,
   "metadata": {},
   "outputs": [],
   "source": [
    "def crop_region(sample_df, p1, p2, p3, p4):\n",
    "    \"\"\"\n",
    "    TODO:\n",
    "    Inputs:\n",
    "        sample_df: A Pandas dataframe with transformed WGS coordinates\n",
    "        p1, p2, p3, p4: WGS-84 coordinates of the boundaries of area of interest\n",
    "    Output:\n",
    "        sample_df_out: a Pandas dataframe with only rows that falls into the area of interest\n",
    "    \"\"\"\n",
    "    right = p1[0]\n",
    "    up = p1[1]\n",
    "    left = p3[0]\n",
    "    down = p3[1]\n",
    "    \n",
    "    sample_df_out = sample_df[(sample_df['lon_wgs'] >= down)&\n",
    "                         (sample_df['lon_wgs'] <= up)&\n",
    "                          (sample_df['lat_wgs'] >= left)&\n",
    "                          (sample_df['lat_wgs'] <= right)].reset_index(drop = True)\n",
    "    return sample_df_out"
   ]
  },
  {
   "cell_type": "code",
   "execution_count": 8,
   "metadata": {},
   "outputs": [
    {
     "data": {
      "image/png": "[encoded data removed]",
      "text/plain": [
       "<Figure size 864x576 with 1 Axes>"
      ]
     },
     "metadata": {
      "needs_background": "light"
     },
     "output_type": "display_data"
    }
   ],
   "source": [
    "# crop the trips dataset and visualize the trips. If your implementation is correct you will see several parallel curves.\n",
    "crop_trips_df_et = crop_region(trips_df_et, p1, p2, p3, p4)\n",
    "plot_gps(crop_trips_df_et)"
   ]
  },
  {
   "cell_type": "code",
   "execution_count": 9,
   "metadata": {},
   "outputs": [
    {
     "data": {
      "text/html": [
       "<div>\n",
       "<style scoped>\n",
       "    .dataframe tbody tr th:only-of-type {\n",
       "        vertical-align: middle;\n",
       "    }\n",
       "\n",
       "    .dataframe tbody tr th {\n",
       "        vertical-align: top;\n",
       "    }\n",
       "\n",
       "    .dataframe thead th {\n",
       "        text-align: right;\n",
       "    }\n",
       "</style>\n",
       "<table border=\"1\" class=\"dataframe\">\n",
       "  <thead>\n",
       "    <tr style=\"text-align: right;\">\n",
       "      <th></th>\n",
       "      <th>driver_id</th>\n",
       "      <th>order_id</th>\n",
       "      <th>time</th>\n",
       "      <th>lon</th>\n",
       "      <th>lat</th>\n",
       "      <th>lat_wgs</th>\n",
       "      <th>lon_wgs</th>\n",
       "    </tr>\n",
       "  </thead>\n",
       "  <tbody>\n",
       "    <tr>\n",
       "      <th>0</th>\n",
       "      <td>af7ff9e09ccb91b0638c969f1b90fc05</td>\n",
       "      <td>bea5e9bce4f2f79e9098c794f42e07bc</td>\n",
       "      <td>1476330804</td>\n",
       "      <td>108.94676</td>\n",
       "      <td>34.23590</td>\n",
       "      <td>34.237497</td>\n",
       "      <td>108.942107</td>\n",
       "    </tr>\n",
       "    <tr>\n",
       "      <th>1</th>\n",
       "      <td>af7ff9e09ccb91b0638c969f1b90fc05</td>\n",
       "      <td>bea5e9bce4f2f79e9098c794f42e07bc</td>\n",
       "      <td>1476330846</td>\n",
       "      <td>108.94676</td>\n",
       "      <td>34.23491</td>\n",
       "      <td>34.236507</td>\n",
       "      <td>108.942107</td>\n",
       "    </tr>\n",
       "    <tr>\n",
       "      <th>2</th>\n",
       "      <td>af7ff9e09ccb91b0638c969f1b90fc05</td>\n",
       "      <td>bea5e9bce4f2f79e9098c794f42e07bc</td>\n",
       "      <td>1476330783</td>\n",
       "      <td>108.94676</td>\n",
       "      <td>34.23736</td>\n",
       "      <td>34.238957</td>\n",
       "      <td>108.942107</td>\n",
       "    </tr>\n",
       "    <tr>\n",
       "      <th>3</th>\n",
       "      <td>af7ff9e09ccb91b0638c969f1b90fc05</td>\n",
       "      <td>bea5e9bce4f2f79e9098c794f42e07bc</td>\n",
       "      <td>1476330843</td>\n",
       "      <td>108.94676</td>\n",
       "      <td>34.23515</td>\n",
       "      <td>34.236747</td>\n",
       "      <td>108.942107</td>\n",
       "    </tr>\n",
       "    <tr>\n",
       "      <th>4</th>\n",
       "      <td>af7ff9e09ccb91b0638c969f1b90fc05</td>\n",
       "      <td>bea5e9bce4f2f79e9098c794f42e07bc</td>\n",
       "      <td>1476330786</td>\n",
       "      <td>108.94676</td>\n",
       "      <td>34.23711</td>\n",
       "      <td>34.238707</td>\n",
       "      <td>108.942107</td>\n",
       "    </tr>\n",
       "  </tbody>\n",
       "</table>\n",
       "</div>"
      ],
      "text/plain": [
       "                          driver_id                          order_id  \\\n",
       "0  af7ff9e09ccb91b0638c969f1b90fc05  bea5e9bce4f2f79e9098c794f42e07bc   \n",
       "1  af7ff9e09ccb91b0638c969f1b90fc05  bea5e9bce4f2f79e9098c794f42e07bc   \n",
       "2  af7ff9e09ccb91b0638c969f1b90fc05  bea5e9bce4f2f79e9098c794f42e07bc   \n",
       "3  af7ff9e09ccb91b0638c969f1b90fc05  bea5e9bce4f2f79e9098c794f42e07bc   \n",
       "4  af7ff9e09ccb91b0638c969f1b90fc05  bea5e9bce4f2f79e9098c794f42e07bc   \n",
       "\n",
       "         time        lon       lat    lat_wgs     lon_wgs  \n",
       "0  1476330804  108.94676  34.23590  34.237497  108.942107  \n",
       "1  1476330846  108.94676  34.23491  34.236507  108.942107  \n",
       "2  1476330783  108.94676  34.23736  34.238957  108.942107  \n",
       "3  1476330843  108.94676  34.23515  34.236747  108.942107  \n",
       "4  1476330786  108.94676  34.23711  34.238707  108.942107  "
      ]
     },
     "execution_count": 9,
     "metadata": {},
     "output_type": "execute_result"
    }
   ],
   "source": [
    "crop_trips_df_et.head()"
   ]
  },
  {
   "cell_type": "markdown",
   "metadata": {},
   "source": [
    "### Task 1.4: Add Local Times"
   ]
  },
  {
   "cell_type": "code",
   "execution_count": 48,
   "metadata": {},
   "outputs": [],
   "source": [
    "def add_local_time(crop_trips_df_et):\n",
    "    crop_trips_df = crop_trips_df_et.copy()\n",
    "    crop_trips_df = crop_trips_df.append({'driver_id' : 'test_bed', \n",
    "                                          'order_id' : 'test_bed',\n",
    "                                          'time': 1458000000,\n",
    "                                          'lon': 0.,\n",
    "                                          'lat': 0.,\n",
    "                                          'lon_wgs': 0.,\n",
    "                                          'lat_wgs':0.} , ignore_index=True)\n",
    "    \"\"\"\n",
    "    TODO:\n",
    "    Input:\n",
    "        crop_trips_df_et: the output from the function crop_region(), which should be a Pandas dataframe.\n",
    "        \n",
    "    Output:\n",
    "        The output should also be a dataframe, but with ONE additional columns -- local time -- which converts \n",
    "        the epoch time (column \"time\") to Beijing Time (UTC+8)\n",
    "    HINT:\n",
    "        use Pandas pd.to_datetime() and pd.Timedelta() functions.\n",
    "    \"\"\"\n",
    "    crop_trips_df['local_time']= pd.DatetimeIndex(pd.to_datetime(crop_trips_df['time'], unit='s'))\\\n",
    "                                .tz_localize('UTC').tz_convert('Asia/Shanghai')\n",
    "    \n",
    "    return crop_trips_df"
   ]
  },
  {
   "cell_type": "code",
   "execution_count": 49,
   "metadata": {},
   "outputs": [],
   "source": [
    "final_crop_df = add_local_time(crop_trips_df_et)"
   ]
  },
  {
   "cell_type": "code",
   "execution_count": 50,
   "metadata": {},
   "outputs": [
    {
     "name": "stdout",
     "output_type": "stream",
     "text": [
      "driver_id                      test_bed\n",
      "order_id                       test_bed\n",
      "time                         1458000000\n",
      "lon                                   0\n",
      "lat                                   0\n",
      "lat_wgs                               0\n",
      "lon_wgs                               0\n",
      "local_time    2016-03-15 08:00:00+08:00\n",
      "Name: 746, dtype: object\n"
     ]
    }
   ],
   "source": [
    "# Run this block and attach the results to your writeups\n",
    "print(final_crop_df.iloc[-1])"
   ]
  },
  {
   "cell_type": "code",
   "execution_count": null,
   "metadata": {},
   "outputs": [],
   "source": []
  }
 ],
 "metadata": {
  "kernelspec": {
   "display_name": "Python 3",
   "language": "python",
   "name": "python3"
  },
  "language_info": {
   "codemirror_mode": {
    "name": "ipython",
    "version": 3
   },
   "file_extension": ".py",
   "mimetype": "text/x-python",
   "name": "python",
   "nbconvert_exporter": "python",
   "pygments_lexer": "ipython3",
   "version": "3.7.1"
  }
 },
 "nbformat": 4,
 "nbformat_minor": 2
}
