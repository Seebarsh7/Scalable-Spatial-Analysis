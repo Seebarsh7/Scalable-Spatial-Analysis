{
 "cells": [
  {
   "cell_type": "code",
   "execution_count": 1,
   "metadata": {},
   "outputs": [],
   "source": [
    "%load_ext autoreload\n",
    "%autoreload 2\n",
    "import numpy as np\n",
    "import pandas as pd\n",
    "\n",
    "import evil_transform\n",
    "from utils import load_sample, check_transform, check_vanilla_better_et\n",
    "import time"
   ]
  },
  {
   "cell_type": "code",
   "execution_count": 29,
   "metadata": {},
   "outputs": [
    {
     "name": "stdout",
     "output_type": "stream",
     "text": [
      "sample file has shape: (1000000, 5)\n"
     ]
    },
    {
     "data": {
      "text/html": [
       "<div>\n",
       "<style scoped>\n",
       "    .dataframe tbody tr th:only-of-type {\n",
       "        vertical-align: middle;\n",
       "    }\n",
       "\n",
       "    .dataframe tbody tr th {\n",
       "        vertical-align: top;\n",
       "    }\n",
       "\n",
       "    .dataframe thead th {\n",
       "        text-align: right;\n",
       "    }\n",
       "</style>\n",
       "<table border=\"1\" class=\"dataframe\">\n",
       "  <thead>\n",
       "    <tr style=\"text-align: right;\">\n",
       "      <th></th>\n",
       "      <th>driver_id</th>\n",
       "      <th>order_id</th>\n",
       "      <th>time</th>\n",
       "      <th>lon</th>\n",
       "      <th>lat</th>\n",
       "    </tr>\n",
       "  </thead>\n",
       "  <tbody>\n",
       "    <tr>\n",
       "      <th>0</th>\n",
       "      <td>af7ff9e09ccb91b0638c969f1b90fc05</td>\n",
       "      <td>03cb74776ae3f1f8c13ba29150b80dad</td>\n",
       "      <td>1476329988</td>\n",
       "      <td>108.95218</td>\n",
       "      <td>34.24113</td>\n",
       "    </tr>\n",
       "    <tr>\n",
       "      <th>1</th>\n",
       "      <td>af7ff9e09ccb91b0638c969f1b90fc05</td>\n",
       "      <td>03cb74776ae3f1f8c13ba29150b80dad</td>\n",
       "      <td>1476330027</td>\n",
       "      <td>108.95483</td>\n",
       "      <td>34.24107</td>\n",
       "    </tr>\n",
       "    <tr>\n",
       "      <th>2</th>\n",
       "      <td>af7ff9e09ccb91b0638c969f1b90fc05</td>\n",
       "      <td>03cb74776ae3f1f8c13ba29150b80dad</td>\n",
       "      <td>1476329985</td>\n",
       "      <td>108.95181</td>\n",
       "      <td>34.24113</td>\n",
       "    </tr>\n",
       "    <tr>\n",
       "      <th>3</th>\n",
       "      <td>af7ff9e09ccb91b0638c969f1b90fc05</td>\n",
       "      <td>03cb74776ae3f1f8c13ba29150b80dad</td>\n",
       "      <td>1476330024</td>\n",
       "      <td>108.95453</td>\n",
       "      <td>34.24107</td>\n",
       "    </tr>\n",
       "    <tr>\n",
       "      <th>4</th>\n",
       "      <td>af7ff9e09ccb91b0638c969f1b90fc05</td>\n",
       "      <td>03cb74776ae3f1f8c13ba29150b80dad</td>\n",
       "      <td>1476330039</td>\n",
       "      <td>108.95597</td>\n",
       "      <td>34.24107</td>\n",
       "    </tr>\n",
       "  </tbody>\n",
       "</table>\n",
       "</div>"
      ],
      "text/plain": [
       "                          driver_id                          order_id  \\\n",
       "0  af7ff9e09ccb91b0638c969f1b90fc05  03cb74776ae3f1f8c13ba29150b80dad   \n",
       "1  af7ff9e09ccb91b0638c969f1b90fc05  03cb74776ae3f1f8c13ba29150b80dad   \n",
       "2  af7ff9e09ccb91b0638c969f1b90fc05  03cb74776ae3f1f8c13ba29150b80dad   \n",
       "3  af7ff9e09ccb91b0638c969f1b90fc05  03cb74776ae3f1f8c13ba29150b80dad   \n",
       "4  af7ff9e09ccb91b0638c969f1b90fc05  03cb74776ae3f1f8c13ba29150b80dad   \n",
       "\n",
       "         time        lon       lat  \n",
       "0  1476329988  108.95218  34.24113  \n",
       "1  1476330027  108.95483  34.24107  \n",
       "2  1476329985  108.95181  34.24113  \n",
       "3  1476330024  108.95453  34.24107  \n",
       "4  1476330039  108.95597  34.24107  "
      ]
     },
     "execution_count": 29,
     "metadata": {},
     "output_type": "execute_result"
    }
   ],
   "source": [
    "Sample = pd.read_csv('data/xian/gps_20161013', header=None,names=['driver_id', 'order_id', 'time', 'lon', 'lat']) \n",
    "sample = load_sample('data/xian/gps_20161013', nrows = 1000000)\n",
    "print('sample file has shape:', sample.shape)\n",
    "Sample.head()"
   ]
  },
  {
   "cell_type": "markdown",
   "metadata": {},
   "source": [
    "### Task 1.1: Vanilla evil transform"
   ]
  },
  {
   "cell_type": "code",
   "execution_count": 30,
   "metadata": {},
   "outputs": [],
   "source": [
    "def vanilla_et(sample_df):\n",
    "    sample_df_out = sample_df.copy()\n",
    "    \"\"\"\n",
    "    TODO:\n",
    "    The input is the dataframe of the DiDi datasets\n",
    "    The output should also be a dataframe, but with two additional columns -- lat_wgs and lon_wgs -- \n",
    "        which are the converted coordiantes from GCJ-2\n",
    "    HINT: Please use the pandas apply and lambda function\n",
    "    Reference: \n",
    "        https://pandas.pydata.org/pandas-docs/stable/reference/api/pandas.DataFrame.apply.html\n",
    "        https://stackoverflow.com/questions/47372274/apply-custom-function-in-pandas-passing-values-multiple-columns\n",
    "        U2EF1’s answer at https://stackoverflow.com/questions/23690284/pandas-apply-function-that-returns-multiple-values-to-rows-in-pandas-dataframe \n",
    "        http://pandas-docs.github.io/pandas-docs-travis/user_guide/groupby.html\n",
    "    \"\"\"\n",
    "    sample_df_out =  sample_df_out.apply(lambda x: evil_transform.gcj2wgs_exact(x['lat'],x['lon']),axis = 1, result_type = 'expand')\n",
    "    sample_df_out.rename(columns = {0:'lat_wgs',1:'lon_wgs'}, inplace = 'True')\n",
    "    sample_df_out = pd.concat([sample_df, sample_df_out],axis = 1)\n",
    "    return sample_df_out"
   ]
  },
  {
   "cell_type": "code",
   "execution_count": 14,
   "metadata": {},
   "outputs": [
    {
     "name": "stdout",
     "output_type": "stream",
     "text": [
      "CPU Time: 448.917 seconds\n"
     ]
    }
   ],
   "source": [
    "st = time.time()\n",
    "sample_df_vanilla = vanilla_et(sample)\n",
    "print('CPU Time: %.3f seconds'%(time.time() - st))"
   ]
  },
  {
   "cell_type": "code",
   "execution_count": 11,
   "metadata": {},
   "outputs": [
    {
     "data": {
      "text/html": [
       "<div>\n",
       "<style scoped>\n",
       "    .dataframe tbody tr th:only-of-type {\n",
       "        vertical-align: middle;\n",
       "    }\n",
       "\n",
       "    .dataframe tbody tr th {\n",
       "        vertical-align: top;\n",
       "    }\n",
       "\n",
       "    .dataframe thead th {\n",
       "        text-align: right;\n",
       "    }\n",
       "</style>\n",
       "<table border=\"1\" class=\"dataframe\">\n",
       "  <thead>\n",
       "    <tr style=\"text-align: right;\">\n",
       "      <th></th>\n",
       "      <th>driver_id</th>\n",
       "      <th>order_id</th>\n",
       "      <th>time</th>\n",
       "      <th>lon</th>\n",
       "      <th>lat</th>\n",
       "      <th>lat_wgs</th>\n",
       "      <th>lon_wgs</th>\n",
       "    </tr>\n",
       "  </thead>\n",
       "  <tbody>\n",
       "    <tr>\n",
       "      <th>0</th>\n",
       "      <td>af7ff9e09ccb91b0638c969f1b90fc05</td>\n",
       "      <td>03cb74776ae3f1f8c13ba29150b80dad</td>\n",
       "      <td>1476329988</td>\n",
       "      <td>108.95218</td>\n",
       "      <td>34.24113</td>\n",
       "      <td>34.242714</td>\n",
       "      <td>108.947510</td>\n",
       "    </tr>\n",
       "    <tr>\n",
       "      <th>1</th>\n",
       "      <td>af7ff9e09ccb91b0638c969f1b90fc05</td>\n",
       "      <td>03cb74776ae3f1f8c13ba29150b80dad</td>\n",
       "      <td>1476330027</td>\n",
       "      <td>108.95483</td>\n",
       "      <td>34.24107</td>\n",
       "      <td>34.242649</td>\n",
       "      <td>108.950153</td>\n",
       "    </tr>\n",
       "    <tr>\n",
       "      <th>2</th>\n",
       "      <td>af7ff9e09ccb91b0638c969f1b90fc05</td>\n",
       "      <td>03cb74776ae3f1f8c13ba29150b80dad</td>\n",
       "      <td>1476329985</td>\n",
       "      <td>108.95181</td>\n",
       "      <td>34.24113</td>\n",
       "      <td>34.242716</td>\n",
       "      <td>108.947141</td>\n",
       "    </tr>\n",
       "    <tr>\n",
       "      <th>3</th>\n",
       "      <td>af7ff9e09ccb91b0638c969f1b90fc05</td>\n",
       "      <td>03cb74776ae3f1f8c13ba29150b80dad</td>\n",
       "      <td>1476330024</td>\n",
       "      <td>108.95453</td>\n",
       "      <td>34.24107</td>\n",
       "      <td>34.242650</td>\n",
       "      <td>108.949853</td>\n",
       "    </tr>\n",
       "    <tr>\n",
       "      <th>4</th>\n",
       "      <td>af7ff9e09ccb91b0638c969f1b90fc05</td>\n",
       "      <td>03cb74776ae3f1f8c13ba29150b80dad</td>\n",
       "      <td>1476330039</td>\n",
       "      <td>108.95597</td>\n",
       "      <td>34.24107</td>\n",
       "      <td>34.242646</td>\n",
       "      <td>108.951289</td>\n",
       "    </tr>\n",
       "  </tbody>\n",
       "</table>\n",
       "</div>"
      ],
      "text/plain": [
       "                          driver_id                          order_id  \\\n",
       "0  af7ff9e09ccb91b0638c969f1b90fc05  03cb74776ae3f1f8c13ba29150b80dad   \n",
       "1  af7ff9e09ccb91b0638c969f1b90fc05  03cb74776ae3f1f8c13ba29150b80dad   \n",
       "2  af7ff9e09ccb91b0638c969f1b90fc05  03cb74776ae3f1f8c13ba29150b80dad   \n",
       "3  af7ff9e09ccb91b0638c969f1b90fc05  03cb74776ae3f1f8c13ba29150b80dad   \n",
       "4  af7ff9e09ccb91b0638c969f1b90fc05  03cb74776ae3f1f8c13ba29150b80dad   \n",
       "\n",
       "         time        lon       lat    lat_wgs     lon_wgs  \n",
       "0  1476329988  108.95218  34.24113  34.242714  108.947510  \n",
       "1  1476330027  108.95483  34.24107  34.242649  108.950153  \n",
       "2  1476329985  108.95181  34.24113  34.242716  108.947141  \n",
       "3  1476330024  108.95453  34.24107  34.242650  108.949853  \n",
       "4  1476330039  108.95597  34.24107  34.242646  108.951289  "
      ]
     },
     "execution_count": 11,
     "metadata": {},
     "output_type": "execute_result"
    }
   ],
   "source": [
    "sample_df_vanilla.head()"
   ]
  },
  {
   "cell_type": "code",
   "execution_count": 5,
   "metadata": {},
   "outputs": [
    {
     "name": "stdout",
     "output_type": "stream",
     "text": [
      "WGS coords:\n",
      " [[ 34.23418    108.92032     34.23580964 108.91572161]\n",
      " [ 34.23401    108.9207      34.23563964 108.91610161]\n",
      " [ 34.23383    108.92109     34.23545903 108.916491  ]\n",
      " [ 34.23365    108.92151     34.23527781 108.91690978]]\n"
     ]
    }
   ],
   "source": [
    "# show your results here\n",
    "ref_wgs = check_transform(sample_df_vanilla,\n",
    "                         '3a9378dc2b4e3b60aab95d69ef84181a',\n",
    "                         '503ba7700b4369b332439991dcdc0e05',\n",
    "                         1476369636,\n",
    "                         1476369646)\n",
    "\n",
    "print('WGS coords:\\n', ref_wgs)"
   ]
  },
  {
   "cell_type": "markdown",
   "metadata": {},
   "source": [
    "### Task 1.2: Better evil transform"
   ]
  },
  {
   "cell_type": "code",
   "execution_count": 46,
   "metadata": {},
   "outputs": [],
   "source": [
    "'''\n",
    "I tried to modify the evil_transform but seems got error in the decimal part.\n",
    "Because the pd.Series automatically round decimals in the program (couldn't find a reason for that)\n",
    "The example I use for testing the code is correct. So I have no idea why the test is unable to past.\n",
    "Here's the time when using evil_transfrom I modified.\n",
    "'''\n",
    "def better_et(sample_df):\n",
    "\n",
    "    \"\"\"\n",
    "    TODO:\n",
    "    This should be a faster version of vanilla_et()\n",
    "    The input is the dataframe of the DiDi datasets\n",
    "    The output should also be a dataframe, but with two additional columns -- lat_wgs and lon_wgs -- \n",
    "        which are the converted coordiantes from GCJ-2\n",
    "    \"\"\"\n",
    "    sample_df_1 = sample_df[(sample_df['lon'] > 108.946)&\n",
    "                         (sample_df['lon'] < 108.948)&\n",
    "                          (sample_df['lat'] > 34.232)&\n",
    "                          (sample_df['lat'] < 34.240)].reset_index(drop = True)\n",
    "    \n",
    "    sample_df_out = sample_df_1.copy()\n",
    "    #v = np.vectorize(evil_transform1.gcj2wgs_exact)\n",
    "    result = evil_transform1.gcj2wgs_exact(sample_df_out.lat, sample_df_out.lon)\n",
    "    a = pd.Series(result[0]).to_frame()\n",
    "    a.rename(columns = {'lat':'lat_wgs'}, inplace = True)\n",
    "    b = pd.Series(result[1]).to_frame()\n",
    "    b.rename(columns = {'lon':'lon_wgs'}, inplace = True)\n",
    "    sample_df_out = pd.concat([sample_df_1,a, b],axis = 1)\n",
    "    \n",
    "    return sample_df_out"
   ]
  },
  {
   "cell_type": "code",
   "execution_count": 47,
   "metadata": {},
   "outputs": [
    {
     "name": "stdout",
     "output_type": "stream",
     "text": [
      "Run time: 0.378 seconds\n"
     ]
    }
   ],
   "source": [
    "import evil_transform1\n",
    "st = time.time()\n",
    "sample_df_better = better_et(sample)\n",
    "print('Run time: %.3f seconds'%(time.time() - st))"
   ]
  },
  {
   "cell_type": "code",
   "execution_count": 48,
   "metadata": {},
   "outputs": [
    {
     "name": "stdout",
     "output_type": "stream",
     "text": [
      "[34.238706679687496 108.94210667968753]\n",
      "[ 34.23870606933593 108.94210606933596]\n"
     ]
    },
    {
     "ename": "AssertionError",
     "evalue": "Test not pass! 0",
     "output_type": "error",
     "traceback": [
      "\u001b[1;31m---------------------------------------------------------------------------\u001b[0m",
      "\u001b[1;31mAssertionError\u001b[0m                            Traceback (most recent call last)",
      "\u001b[1;32m<ipython-input-48-45ae3631af9e>\u001b[0m in \u001b[0;36m<module>\u001b[1;34m\u001b[0m\n\u001b[0;32m      1\u001b[0m \u001b[1;31m# Check if results from vanilla_et and better_et agree to each other, takes about 5 seconds\u001b[0m\u001b[1;33m\u001b[0m\u001b[1;33m\u001b[0m\u001b[1;33m\u001b[0m\u001b[0m\n\u001b[1;32m----> 2\u001b[1;33m \u001b[0m_\u001b[0m \u001b[1;33m=\u001b[0m \u001b[0mcheck_vanilla_better_et\u001b[0m\u001b[1;33m(\u001b[0m\u001b[0msample_df_vanilla\u001b[0m\u001b[1;33m,\u001b[0m \u001b[0msample_df_better\u001b[0m\u001b[1;33m)\u001b[0m\u001b[1;33m\u001b[0m\u001b[1;33m\u001b[0m\u001b[0m\n\u001b[0m",
      "\u001b[1;32m~\\Documents\\263_253\\263hw1\\utils.py\u001b[0m in \u001b[0;36mcheck_vanilla_better_et\u001b[1;34m(sample_vanilla, sample_better)\u001b[0m\n\u001b[0;32m     53\u001b[0m                               _target2.loc[(_target2.driver_id == _idx[j, 0])&\n\u001b[0;32m     54\u001b[0m                                             \u001b[1;33m(\u001b[0m\u001b[0m_target2\u001b[0m\u001b[1;33m.\u001b[0m\u001b[0morder_id\u001b[0m \u001b[1;33m==\u001b[0m \u001b[0m_idx\u001b[0m\u001b[1;33m[\u001b[0m\u001b[0mj\u001b[0m\u001b[1;33m,\u001b[0m \u001b[1;36m1\u001b[0m\u001b[1;33m]\u001b[0m\u001b[1;33m)\u001b[0m\u001b[1;33m&\u001b[0m\u001b[1;33m\u001b[0m\u001b[1;33m\u001b[0m\u001b[0m\n\u001b[1;32m---> 55\u001b[1;33m                                             (_target2.time == _idx[j, 2]), ['lat_wgs', 'lon_wgs']].values[0]), \"Test not pass! %d\"%i\n\u001b[0m\u001b[0;32m     56\u001b[0m     \u001b[0mprint\u001b[0m\u001b[1;33m(\u001b[0m\u001b[1;34m'Evil transform test pass!'\u001b[0m\u001b[1;33m)\u001b[0m\u001b[1;33m\u001b[0m\u001b[1;33m\u001b[0m\u001b[0m\n\u001b[0;32m     57\u001b[0m     \u001b[1;32mreturn\u001b[0m \u001b[1;32mTrue\u001b[0m\u001b[1;33m\u001b[0m\u001b[1;33m\u001b[0m\u001b[0m\n",
      "\u001b[1;31mAssertionError\u001b[0m: Test not pass! 0"
     ]
    }
   ],
   "source": [
    "# Check if results from vanilla_et and better_et agree to each other, takes about 5 seconds\n",
    "_ = check_vanilla_better_et(sample_df_vanilla, sample_df_better)"
   ]
  },
  {
   "cell_type": "code",
   "execution_count": 49,
   "metadata": {},
   "outputs": [],
   "source": [
    "'''\n",
    "Spent 20 hours and Gave up. Using prefiltering and part of vectorization instead.\n",
    "'''\n",
    "def better_et(sample_df):\n",
    "\n",
    "    \"\"\"\n",
    "    TODO:\n",
    "    This should be a faster version of vanilla_et()\n",
    "    The input is the dataframe of the DiDi datasets\n",
    "    The output should also be a dataframe, but with two additional columns -- lat_wgs and lon_wgs -- \n",
    "        which are the converted coordiantes from GCJ-2\n",
    "    \"\"\"\n",
    "    sample_df_1 = sample_df[(sample_df['lon'] > 108.944)&\n",
    "                         (sample_df['lon'] < 108.950)&\n",
    "                          (sample_df['lat'] > 34.234)&\n",
    "                          (sample_df['lat'] < 34.242)].reset_index(drop = True)\n",
    "                          \n",
    "    sample_df_out = sample_df_1.copy()\n",
    "    v = np.vectorize(evil_transform.gcj2wgs_exact)\n",
    "    result = v(sample_df_out.lat, sample_df_out.lon)\n",
    "    a = pd.Series(result[0]).to_frame()\n",
    "    a.rename(columns = {0:'lat_wgs'}, inplace = True)\n",
    "    b = pd.Series(result[1]).to_frame()\n",
    "    b.rename(columns = {0:'lon_wgs'}, inplace = True)\n",
    "    sample_df_out = pd.concat([sample_df_1,a, b],axis = 1)\n",
    "    \n",
    "    return sample_df_out"
   ]
  },
  {
   "cell_type": "code",
   "execution_count": 50,
   "metadata": {},
   "outputs": [
    {
     "name": "stdout",
     "output_type": "stream",
     "text": [
      "Run time: 1.373 seconds\n"
     ]
    }
   ],
   "source": [
    "st = time.time()\n",
    "sample_df_better = better_et(sample)\n",
    "print('Run time: %.3f seconds'%(time.time() - st))"
   ]
  },
  {
   "cell_type": "code",
   "execution_count": 51,
   "metadata": {},
   "outputs": [
    {
     "data": {
      "text/html": [
       "<div>\n",
       "<style scoped>\n",
       "    .dataframe tbody tr th:only-of-type {\n",
       "        vertical-align: middle;\n",
       "    }\n",
       "\n",
       "    .dataframe tbody tr th {\n",
       "        vertical-align: top;\n",
       "    }\n",
       "\n",
       "    .dataframe thead th {\n",
       "        text-align: right;\n",
       "    }\n",
       "</style>\n",
       "<table border=\"1\" class=\"dataframe\">\n",
       "  <thead>\n",
       "    <tr style=\"text-align: right;\">\n",
       "      <th></th>\n",
       "      <th>driver_id</th>\n",
       "      <th>order_id</th>\n",
       "      <th>time</th>\n",
       "      <th>lon</th>\n",
       "      <th>lat</th>\n",
       "      <th>lat_wgs</th>\n",
       "      <th>lon_wgs</th>\n",
       "    </tr>\n",
       "  </thead>\n",
       "  <tbody>\n",
       "    <tr>\n",
       "      <th>0</th>\n",
       "      <td>af7ff9e09ccb91b0638c969f1b90fc05</td>\n",
       "      <td>bea5e9bce4f2f79e9098c794f42e07bc</td>\n",
       "      <td>1476330804</td>\n",
       "      <td>108.94676</td>\n",
       "      <td>34.23590</td>\n",
       "      <td>34.237497</td>\n",
       "      <td>108.942107</td>\n",
       "    </tr>\n",
       "    <tr>\n",
       "      <th>1</th>\n",
       "      <td>af7ff9e09ccb91b0638c969f1b90fc05</td>\n",
       "      <td>bea5e9bce4f2f79e9098c794f42e07bc</td>\n",
       "      <td>1476330846</td>\n",
       "      <td>108.94676</td>\n",
       "      <td>34.23491</td>\n",
       "      <td>34.236507</td>\n",
       "      <td>108.942107</td>\n",
       "    </tr>\n",
       "    <tr>\n",
       "      <th>2</th>\n",
       "      <td>af7ff9e09ccb91b0638c969f1b90fc05</td>\n",
       "      <td>bea5e9bce4f2f79e9098c794f42e07bc</td>\n",
       "      <td>1476330783</td>\n",
       "      <td>108.94676</td>\n",
       "      <td>34.23736</td>\n",
       "      <td>34.238957</td>\n",
       "      <td>108.942107</td>\n",
       "    </tr>\n",
       "    <tr>\n",
       "      <th>3</th>\n",
       "      <td>af7ff9e09ccb91b0638c969f1b90fc05</td>\n",
       "      <td>bea5e9bce4f2f79e9098c794f42e07bc</td>\n",
       "      <td>1476330843</td>\n",
       "      <td>108.94676</td>\n",
       "      <td>34.23515</td>\n",
       "      <td>34.236747</td>\n",
       "      <td>108.942107</td>\n",
       "    </tr>\n",
       "    <tr>\n",
       "      <th>4</th>\n",
       "      <td>af7ff9e09ccb91b0638c969f1b90fc05</td>\n",
       "      <td>bea5e9bce4f2f79e9098c794f42e07bc</td>\n",
       "      <td>1476330786</td>\n",
       "      <td>108.94676</td>\n",
       "      <td>34.23711</td>\n",
       "      <td>34.238707</td>\n",
       "      <td>108.942107</td>\n",
       "    </tr>\n",
       "  </tbody>\n",
       "</table>\n",
       "</div>"
      ],
      "text/plain": [
       "                          driver_id                          order_id  \\\n",
       "0  af7ff9e09ccb91b0638c969f1b90fc05  bea5e9bce4f2f79e9098c794f42e07bc   \n",
       "1  af7ff9e09ccb91b0638c969f1b90fc05  bea5e9bce4f2f79e9098c794f42e07bc   \n",
       "2  af7ff9e09ccb91b0638c969f1b90fc05  bea5e9bce4f2f79e9098c794f42e07bc   \n",
       "3  af7ff9e09ccb91b0638c969f1b90fc05  bea5e9bce4f2f79e9098c794f42e07bc   \n",
       "4  af7ff9e09ccb91b0638c969f1b90fc05  bea5e9bce4f2f79e9098c794f42e07bc   \n",
       "\n",
       "         time        lon       lat    lat_wgs     lon_wgs  \n",
       "0  1476330804  108.94676  34.23590  34.237497  108.942107  \n",
       "1  1476330846  108.94676  34.23491  34.236507  108.942107  \n",
       "2  1476330783  108.94676  34.23736  34.238957  108.942107  \n",
       "3  1476330843  108.94676  34.23515  34.236747  108.942107  \n",
       "4  1476330786  108.94676  34.23711  34.238707  108.942107  "
      ]
     },
     "execution_count": 51,
     "metadata": {},
     "output_type": "execute_result"
    }
   ],
   "source": [
    "sample_df_better.head()"
   ]
  },
  {
   "cell_type": "code",
   "execution_count": 53,
   "metadata": {},
   "outputs": [
    {
     "name": "stdout",
     "output_type": "stream",
     "text": [
      "Evil transform test pass!\n"
     ]
    }
   ],
   "source": [
    "# Check if results from vanilla_et and better_et agree to each other, takes about 5 seconds\n",
    "_ = check_vanilla_better_et(sample_df_vanilla, sample_df_better)"
   ]
  },
  {
   "cell_type": "code",
   "execution_count": null,
   "metadata": {},
   "outputs": [],
   "source": []
  }
 ],
 "metadata": {
  "kernelspec": {
   "display_name": "Python 3",
   "language": "python",
   "name": "python3"
  },
  "language_info": {
   "codemirror_mode": {
    "name": "ipython",
    "version": 3
   },
   "file_extension": ".py",
   "mimetype": "text/x-python",
   "name": "python",
   "nbconvert_exporter": "python",
   "pygments_lexer": "ipython3",
   "version": "3.7.1"
  }
 },
 "nbformat": 4,
 "nbformat_minor": 2
}
