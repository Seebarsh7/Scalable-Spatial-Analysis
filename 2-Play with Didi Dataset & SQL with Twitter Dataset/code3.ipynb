{
 "cells": [
  {
   "cell_type": "code",
   "execution_count": 1,
   "metadata": {},
   "outputs": [],
   "source": [
    "import psycopg2\n",
    "import datetime\n",
    "import json\n",
    "from dateutil.parser import parse\n",
    "from dateutil.tz import gettz\n",
    "import time"
   ]
  },
  {
   "cell_type": "code",
   "execution_count": 2,
   "metadata": {},
   "outputs": [
    {
     "name": "stdout",
     "output_type": "stream",
     "text": [
      "('PROJCS[\"WGS 84 / UTM zone 10N\",GEOGCS[\"WGS 84\",DATUM[\"WGS_1984\",SPHEROID[\"WGS 84\",6378137,298.257223563,AUTHORITY[\"EPSG\",\"7030\"]],AUTHORITY[\"EPSG\",\"6326\"]],PRIMEM[\"Greenwich\",0,AUTHORITY[\"EPSG\",\"8901\"]],UNIT[\"degree\",0.0174532925199433,AUTHORITY[\"EPSG\",\"9122\"]],AUTHORITY[\"EPSG\",\"4326\"]],PROJECTION[\"Transverse_Mercator\"],PARAMETER[\"latitude_of_origin\",0],PARAMETER[\"central_meridian\",-123],PARAMETER[\"scale_factor\",0.9996],PARAMETER[\"false_easting\",500000],PARAMETER[\"false_northing\",0],UNIT[\"metre\",1,AUTHORITY[\"EPSG\",\"9001\"]],AXIS[\"Easting\",EAST],AXIS[\"Northing\",NORTH],AUTHORITY[\"EPSG\",\"32610\"]]',)\n"
     ]
    }
   ],
   "source": [
    "conn = psycopg2.connect(\"dbname = template_postgis user = postgres\\\n",
    "                       host = localhost password = 141421\")\n",
    "cur = conn.cursor()\n",
    "cur.execute(\"\"\"\n",
    "SELECT srtext FROM spatial_ref_sys\n",
    "WHERE srid = 32610;\n",
    "\"\"\")\n",
    "rows = cur.fetchall()\n",
    "print(rows[0])"
   ]
  },
  {
   "cell_type": "code",
   "execution_count": 1,
   "metadata": {},
   "outputs": [
    {
     "name": "stdout",
     "output_type": "stream",
     "text": [
      "Requirement already satisfied: psycopg2 in e:\\software\\anaconda3\\lib\\site-packages (2.7.6.1)\n"
     ]
    }
   ],
   "source": [
    "!pip install psycopg2"
   ]
  },
  {
   "cell_type": "markdown",
   "metadata": {},
   "source": [
    "## Load Tweeter data"
   ]
  },
  {
   "cell_type": "code",
   "execution_count": 3,
   "metadata": {},
   "outputs": [],
   "source": [
    "with open('tweets/tweets_1M.json') as data_file:    \n",
    "    data = json.load(data_file)\n",
    "data = data[:100000]"
   ]
  },
  {
   "cell_type": "code",
   "execution_count": 4,
   "metadata": {},
   "outputs": [
    {
     "name": "stdout",
     "output_type": "stream",
     "text": [
      "{'user_id': 224874450, 'text': '@Tanner_Cortez hey checkout the website: http://t.co/LuktJ6hiws', 'timeStamp': 'Wed Sep 11 04:38:08 +0000 2013', 'lat': 37.44609999, 'lng': -121.88355687, 'id': 377652254096228352}\n"
     ]
    }
   ],
   "source": [
    "for i in data:\n",
    "    print(i)\n",
    "    break"
   ]
  },
  {
   "cell_type": "markdown",
   "metadata": {},
   "source": [
    "## Establish connection"
   ]
  },
  {
   "cell_type": "code",
   "execution_count": 5,
   "metadata": {},
   "outputs": [],
   "source": [
    "conn = psycopg2.connect(\"dbname= tweets_db user= postgres host=localhost password=141421\")\n",
    "cur = conn.cursor()\n",
    "conn.commit()"
   ]
  },
  {
   "cell_type": "code",
   "execution_count": 6,
   "metadata": {},
   "outputs": [
    {
     "name": "stdout",
     "output_type": "stream",
     "text": [
      "('PROJCS[\"WGS 84 / UTM zone 10N\",GEOGCS[\"WGS 84\",DATUM[\"WGS_1984\",SPHEROID[\"WGS 84\",6378137,298.257223563,AUTHORITY[\"EPSG\",\"7030\"]],AUTHORITY[\"EPSG\",\"6326\"]],PRIMEM[\"Greenwich\",0,AUTHORITY[\"EPSG\",\"8901\"]],UNIT[\"degree\",0.0174532925199433,AUTHORITY[\"EPSG\",\"9122\"]],AUTHORITY[\"EPSG\",\"4326\"]],PROJECTION[\"Transverse_Mercator\"],PARAMETER[\"latitude_of_origin\",0],PARAMETER[\"central_meridian\",-123],PARAMETER[\"scale_factor\",0.9996],PARAMETER[\"false_easting\",500000],PARAMETER[\"false_northing\",0],UNIT[\"metre\",1,AUTHORITY[\"EPSG\",\"9001\"]],AXIS[\"Easting\",EAST],AXIS[\"Northing\",NORTH],AUTHORITY[\"EPSG\",\"32610\"]]',)\n"
     ]
    }
   ],
   "source": [
    "# Verify your installation\n",
    "conn.rollback()\n",
    "cur = conn.cursor()\n",
    "cur.execute(\"SELECT srtext FROM spatial_ref_sys WHERE srid = 32610;\")\n",
    "rows = cur.fetchall()\n",
    "print(rows[0])"
   ]
  },
  {
   "cell_type": "markdown",
   "metadata": {},
   "source": [
    "## 4.2 Create a table"
   ]
  },
  {
   "cell_type": "code",
   "execution_count": 24,
   "metadata": {},
   "outputs": [],
   "source": [
    "try:\n",
    "    cur.execute(\"DROP TABLE tweets\")\n",
    "except:\n",
    "    conn.rollback()\n",
    "cur.execute(\"\"\"\n",
    "CREATE TABLE tweets\n",
    "(\n",
    "id VARCHAR,\n",
    "\n",
    "\n",
    "user_id VARCHAR,\n",
    "loc geometry(POINT),\n",
    "time VARCHAR,\n",
    "text VARCHAR\n",
    ");\n",
    "\"\"\")"
   ]
  },
  {
   "cell_type": "code",
   "execution_count": 37,
   "metadata": {},
   "outputs": [],
   "source": [
    "from dateutil.parser import parse"
   ]
  },
  {
   "cell_type": "markdown",
   "metadata": {},
   "source": [
    "## 4.3 Insert tweeter records"
   ]
  },
  {
   "cell_type": "code",
   "execution_count": 25,
   "metadata": {},
   "outputs": [],
   "source": [
    "for i in data:\n",
    "    time = parse(i['timeStamp'])\n",
    "    cur.execute(\"INSERT INTO tweets(id, user_id, loc, time, text) VALUES(%s, %s, ST_SetSRID(ST_MakePOINT(%s,%s),%s), %s, %s)\",\n",
    "                (i['id'], i['user_id'], i['lng'], i['lat'],'4326', time, i['text']))"
   ]
  },
  {
   "cell_type": "code",
   "execution_count": 13,
   "metadata": {},
   "outputs": [
    {
     "name": "stdout",
     "output_type": "stream",
     "text": [
      "('377652254096228352', '224874450', '0101000020E6100000E1E5F1CD19B9424098331D328C785EC0', '2013-09-10 21:38:08-07', '@Tanner_Cortez hey checkout the website: http://t.co/LuktJ6hiws')\n"
     ]
    }
   ],
   "source": [
    "cur.execute('SELECT * from tweets')\n",
    "rows = cur.fetchall()\n",
    "print(rows[0])"
   ]
  },
  {
   "cell_type": "markdown",
   "metadata": {},
   "source": [
    "## 4.5 Create spatial index"
   ]
  },
  {
   "cell_type": "code",
   "execution_count": 14,
   "metadata": {},
   "outputs": [],
   "source": [
    "\"\"\"\n",
    "TODO\n",
    "\"\"\"\n",
    "cur.execute(\"CREATE INDEX spatial_idx ON ca_census_tract USING GIST(geom);\")"
   ]
  },
  {
   "cell_type": "markdown",
   "metadata": {},
   "source": [
    "## 4.6 Create id index for tweets table"
   ]
  },
  {
   "cell_type": "code",
   "execution_count": 15,
   "metadata": {},
   "outputs": [],
   "source": [
    "\"\"\"\n",
    "TODO\n",
    "\"\"\"\n",
    "cur.execute(\"CREATE INDEX id ON tweets (id);\")"
   ]
  },
  {
   "cell_type": "code",
   "execution_count": 16,
   "metadata": {},
   "outputs": [
    {
     "name": "stdout",
     "output_type": "stream",
     "text": [
      "('377652254096228352', '224874450', '0101000020E6100000E1E5F1CD19B9424098331D328C785EC0', '2013-09-10 21:38:08-07', '@Tanner_Cortez hey checkout the website: http://t.co/LuktJ6hiws')\n"
     ]
    }
   ],
   "source": [
    "cur.execute('SELECT * from tweets')\n",
    "rows = cur.fetchall()\n",
    "print(rows[0])"
   ]
  },
  {
   "cell_type": "markdown",
   "metadata": {},
   "source": [
    "## 4.6 Number of tweets inside Alameda county"
   ]
  },
  {
   "cell_type": "code",
   "execution_count": 26,
   "metadata": {},
   "outputs": [
    {
     "name": "stdout",
     "output_type": "stream",
     "text": [
      "Number of tweets in Alameda: 16729\n"
     ]
    }
   ],
   "source": [
    "\"\"\"\n",
    "TODO\n",
    "Hint: use ST_Within() function\n",
    "\"\"\"\n",
    "\n",
    "query = \"SELECT count(*) FROM tweets as tweets, ca_census_tract as ca WHERE ST_WITHIN(tweets.loc,ca.geom) AND ca.geoid10='06001';\"\n",
    "cur.execute(query)\n",
    "count = cur.fetchall()\n",
    "print('Number of tweets in Alameda:', count[0][0])"
   ]
  },
  {
   "cell_type": "markdown",
   "metadata": {},
   "source": [
    "## 4.7 Number of tweets fall 10 km outside of Butte County?"
   ]
  },
  {
   "cell_type": "code",
   "execution_count": 3,
   "metadata": {},
   "outputs": [
    {
     "name": "stdout",
     "output_type": "stream",
     "text": [
      "Number of tweets outside 10km of Butte: 99094\n"
     ]
    }
   ],
   "source": [
    "\"\"\"\n",
    "TODO\n",
    "Hint: use ST_DWithin() function\n",
    "\"\"\"\n",
    "query = \"SELECT count(*) FROM tweets as tweets, ca_census_tract as ca\\\n",
    "        WHERE ca.geoid10='06007' \\\n",
    "        AND NOT ST_Dwithin(tweets.loc,ca.geom, 10000, True);\"\n",
    "\n",
    "cur.execute(query)\n",
    "count = cur.fetchall()\n",
    "\n",
    "print('Number of tweets outside 10km of Butte:', count[0][0]))"
   ]
  },
  {
   "cell_type": "code",
   "execution_count": null,
   "metadata": {},
   "outputs": [],
   "source": []
  }
 ],
 "metadata": {
  "kernelspec": {
   "display_name": "Python 3",
   "language": "python",
   "name": "python3"
  },
  "language_info": {
   "codemirror_mode": {
    "name": "ipython",
    "version": 3
   },
   "file_extension": ".py",
   "mimetype": "text/x-python",
   "name": "python",
   "nbconvert_exporter": "python",
   "pygments_lexer": "ipython3",
   "version": "3.7.1"
  }
 },
 "nbformat": 4,
 "nbformat_minor": 2
}
